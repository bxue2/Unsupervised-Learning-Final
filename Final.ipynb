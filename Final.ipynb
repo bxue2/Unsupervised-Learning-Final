{
 "cells": [
  {
   "cell_type": "markdown",
   "id": "f6809f54-a632-42d8-9495-f495f8a0b460",
   "metadata": {},
   "source": [
    "## Final Project: Board Game Analysis\n"
   ]
  },
  {
   "cell_type": "markdown",
   "id": "1c01f17b-8623-4f63-b55a-9e1f4b4f436c",
   "metadata": {},
   "source": [
    "The dataset I'll be analyzing contains scraped data from the website BoardGameGeek. The dataset should contain information on the various games that have earned enough user ratings on the website (30+ ratings). I'll be looking into Clustering and looking for any patterns, as well training a model to predict user ratings with the available features.\n",
    "\n",
    "Source: https://www.kaggle.com/datasets/andrewmvd/board-games"
   ]
  },
  {
   "cell_type": "code",
   "execution_count": 304,
   "id": "8df7c477-231e-41eb-8f4d-9b878844c208",
   "metadata": {},
   "outputs": [],
   "source": [
    "import numpy as np\n",
    "import pandas as pd\n",
    "import seaborn as sns\n",
    "import sklearn\n",
    "from sklearn.decomposition import NMF\n",
    "from sklearn.metrics import mean_squared_error, mean_absolute_error, r2_score\n",
    "from sklearn.preprocessing import MultiLabelBinarizer\n",
    "import matplotlib.pyplot as plt"
   ]
  },
  {
   "cell_type": "markdown",
   "id": "e9b19ea6-20bd-4c4f-8099-7041fe5b3e9e",
   "metadata": {},
   "source": [
    "### Part 1: Data Importing and EDA"
   ]
  },
  {
   "cell_type": "markdown",
   "id": "9de162ca-9353-463d-8ec0-a9e265bbaf56",
   "metadata": {},
   "source": [
    "First start by importing the data from the csv."
   ]
  },
  {
   "cell_type": "code",
   "execution_count": 242,
   "id": "f6aeaaf8-3592-4ea4-87cd-2adca1b68354",
   "metadata": {},
   "outputs": [
    {
     "name": "stdout",
     "output_type": "stream",
     "text": [
      "<class 'pandas.core.frame.DataFrame'>\n",
      "RangeIndex: 20343 entries, 0 to 20342\n",
      "Data columns (total 14 columns):\n",
      " #   Column              Non-Null Count  Dtype  \n",
      "---  ------              --------------  -----  \n",
      " 0   ID                  20327 non-null  float64\n",
      " 1   Name                20343 non-null  object \n",
      " 2   Year Published      20342 non-null  float64\n",
      " 3   Min Players         20343 non-null  int64  \n",
      " 4   Max Players         20343 non-null  int64  \n",
      " 5   Play Time           20343 non-null  int64  \n",
      " 6   Min Age             20343 non-null  int64  \n",
      " 7   Users Rated         20343 non-null  int64  \n",
      " 8   Rating Average      20343 non-null  object \n",
      " 9   BGG Rank            20343 non-null  int64  \n",
      " 10  Complexity Average  20343 non-null  object \n",
      " 11  Owned Users         20320 non-null  float64\n",
      " 12  Mechanics           18745 non-null  object \n",
      " 13  Domains             10184 non-null  object \n",
      "dtypes: float64(3), int64(6), object(5)\n",
      "memory usage: 2.2+ MB\n",
      "None\n",
      "Index(['ID', 'Name', 'Year Published', 'Min Players', 'Max Players',\n",
      "       'Play Time', 'Min Age', 'Users Rated', 'Rating Average', 'BGG Rank',\n",
      "       'Complexity Average', 'Owned Users', 'Mechanics', 'Domains'],\n",
      "      dtype='object')\n"
     ]
    },
    {
     "data": {
      "text/html": [
       "<div>\n",
       "<style scoped>\n",
       "    .dataframe tbody tr th:only-of-type {\n",
       "        vertical-align: middle;\n",
       "    }\n",
       "\n",
       "    .dataframe tbody tr th {\n",
       "        vertical-align: top;\n",
       "    }\n",
       "\n",
       "    .dataframe thead th {\n",
       "        text-align: right;\n",
       "    }\n",
       "</style>\n",
       "<table border=\"1\" class=\"dataframe\">\n",
       "  <thead>\n",
       "    <tr style=\"text-align: right;\">\n",
       "      <th></th>\n",
       "      <th>ID</th>\n",
       "      <th>Name</th>\n",
       "      <th>Year Published</th>\n",
       "      <th>Min Players</th>\n",
       "      <th>Max Players</th>\n",
       "      <th>Play Time</th>\n",
       "      <th>Min Age</th>\n",
       "      <th>Users Rated</th>\n",
       "      <th>Rating Average</th>\n",
       "      <th>BGG Rank</th>\n",
       "      <th>Complexity Average</th>\n",
       "      <th>Owned Users</th>\n",
       "      <th>Mechanics</th>\n",
       "      <th>Domains</th>\n",
       "    </tr>\n",
       "  </thead>\n",
       "  <tbody>\n",
       "    <tr>\n",
       "      <th>0</th>\n",
       "      <td>174430.0</td>\n",
       "      <td>Gloomhaven</td>\n",
       "      <td>2017.0</td>\n",
       "      <td>1</td>\n",
       "      <td>4</td>\n",
       "      <td>120</td>\n",
       "      <td>14</td>\n",
       "      <td>42055</td>\n",
       "      <td>8,79</td>\n",
       "      <td>1</td>\n",
       "      <td>3,86</td>\n",
       "      <td>68323.0</td>\n",
       "      <td>Action Queue, Action Retrieval, Campaign / Bat...</td>\n",
       "      <td>Strategy Games, Thematic Games</td>\n",
       "    </tr>\n",
       "    <tr>\n",
       "      <th>1</th>\n",
       "      <td>161936.0</td>\n",
       "      <td>Pandemic Legacy: Season 1</td>\n",
       "      <td>2015.0</td>\n",
       "      <td>2</td>\n",
       "      <td>4</td>\n",
       "      <td>60</td>\n",
       "      <td>13</td>\n",
       "      <td>41643</td>\n",
       "      <td>8,61</td>\n",
       "      <td>2</td>\n",
       "      <td>2,84</td>\n",
       "      <td>65294.0</td>\n",
       "      <td>Action Points, Cooperative Game, Hand Manageme...</td>\n",
       "      <td>Strategy Games, Thematic Games</td>\n",
       "    </tr>\n",
       "    <tr>\n",
       "      <th>2</th>\n",
       "      <td>224517.0</td>\n",
       "      <td>Brass: Birmingham</td>\n",
       "      <td>2018.0</td>\n",
       "      <td>2</td>\n",
       "      <td>4</td>\n",
       "      <td>120</td>\n",
       "      <td>14</td>\n",
       "      <td>19217</td>\n",
       "      <td>8,66</td>\n",
       "      <td>3</td>\n",
       "      <td>3,91</td>\n",
       "      <td>28785.0</td>\n",
       "      <td>Hand Management, Income, Loans, Market, Networ...</td>\n",
       "      <td>Strategy Games</td>\n",
       "    </tr>\n",
       "    <tr>\n",
       "      <th>3</th>\n",
       "      <td>167791.0</td>\n",
       "      <td>Terraforming Mars</td>\n",
       "      <td>2016.0</td>\n",
       "      <td>1</td>\n",
       "      <td>5</td>\n",
       "      <td>120</td>\n",
       "      <td>12</td>\n",
       "      <td>64864</td>\n",
       "      <td>8,43</td>\n",
       "      <td>4</td>\n",
       "      <td>3,24</td>\n",
       "      <td>87099.0</td>\n",
       "      <td>Card Drafting, Drafting, End Game Bonuses, Han...</td>\n",
       "      <td>Strategy Games</td>\n",
       "    </tr>\n",
       "    <tr>\n",
       "      <th>4</th>\n",
       "      <td>233078.0</td>\n",
       "      <td>Twilight Imperium: Fourth Edition</td>\n",
       "      <td>2017.0</td>\n",
       "      <td>3</td>\n",
       "      <td>6</td>\n",
       "      <td>480</td>\n",
       "      <td>14</td>\n",
       "      <td>13468</td>\n",
       "      <td>8,70</td>\n",
       "      <td>5</td>\n",
       "      <td>4,22</td>\n",
       "      <td>16831.0</td>\n",
       "      <td>Action Drafting, Area Majority / Influence, Ar...</td>\n",
       "      <td>Strategy Games, Thematic Games</td>\n",
       "    </tr>\n",
       "  </tbody>\n",
       "</table>\n",
       "</div>"
      ],
      "text/plain": [
       "         ID                               Name  Year Published  Min Players  \\\n",
       "0  174430.0                         Gloomhaven          2017.0            1   \n",
       "1  161936.0          Pandemic Legacy: Season 1          2015.0            2   \n",
       "2  224517.0                  Brass: Birmingham          2018.0            2   \n",
       "3  167791.0                  Terraforming Mars          2016.0            1   \n",
       "4  233078.0  Twilight Imperium: Fourth Edition          2017.0            3   \n",
       "\n",
       "   Max Players  Play Time  Min Age  Users Rated Rating Average  BGG Rank  \\\n",
       "0            4        120       14        42055           8,79         1   \n",
       "1            4         60       13        41643           8,61         2   \n",
       "2            4        120       14        19217           8,66         3   \n",
       "3            5        120       12        64864           8,43         4   \n",
       "4            6        480       14        13468           8,70         5   \n",
       "\n",
       "  Complexity Average  Owned Users  \\\n",
       "0               3,86      68323.0   \n",
       "1               2,84      65294.0   \n",
       "2               3,91      28785.0   \n",
       "3               3,24      87099.0   \n",
       "4               4,22      16831.0   \n",
       "\n",
       "                                           Mechanics  \\\n",
       "0  Action Queue, Action Retrieval, Campaign / Bat...   \n",
       "1  Action Points, Cooperative Game, Hand Manageme...   \n",
       "2  Hand Management, Income, Loans, Market, Networ...   \n",
       "3  Card Drafting, Drafting, End Game Bonuses, Han...   \n",
       "4  Action Drafting, Area Majority / Influence, Ar...   \n",
       "\n",
       "                          Domains  \n",
       "0  Strategy Games, Thematic Games  \n",
       "1  Strategy Games, Thematic Games  \n",
       "2                  Strategy Games  \n",
       "3                  Strategy Games  \n",
       "4  Strategy Games, Thematic Games  "
      ]
     },
     "execution_count": 242,
     "metadata": {},
     "output_type": "execute_result"
    }
   ],
   "source": [
    "# Importing the data\n",
    "\n",
    "df = pd.read_csv('bgg_dataset.csv', sep=';')\n",
    "print(df.info())\n",
    "print(df.columns)\n",
    "df.head()"
   ]
  },
  {
   "cell_type": "markdown",
   "id": "4398378c-189d-479d-9fb0-e41361d8dbb6",
   "metadata": {},
   "source": [
    "There's a few things I note off the bat from looking at the first few rows: \n",
    "1. Some of the data types weren't imported right. Complexity Average and Rating Average should be converted to floats, ID, Year Published, and Owned Users to Integers.\n",
    "2. Mechanics and Domains can contain multiple tags/categories in each column, so I'll need to factor that in somehow.\n",
    "3. Some degree of scaling might be needed if I'm using any distance based models (Owned Users and Users rated are significantly larger than anything else).\n",
    "\n",
    "Before I do all that, I want to handle null values first though."
   ]
  },
  {
   "cell_type": "markdown",
   "id": "5d8f1b57-9765-469c-89cd-0ce537504dda",
   "metadata": {},
   "source": [
    "#### Removing NaN values\n",
    "Looking at the data, there's a lot of games with blank Mechanics and Domains. These should probably still be kept since they're still otherwise valid and it's a pretty big chunk of the data. I'll replace the Nan values later when I split those columns into multi-categories.\n",
    "\n",
    "I will probably remove the ones with missing IDs and Owned Users data though, since it's a small enough subset to not matter much."
   ]
  },
  {
   "cell_type": "code",
   "execution_count": 243,
   "id": "2a0843d3-256e-4c2d-a53d-f9c88545db2e",
   "metadata": {},
   "outputs": [
    {
     "name": "stdout",
     "output_type": "stream",
     "text": [
      "ID                       16\n",
      "Name                      0\n",
      "Year Published            1\n",
      "Min Players               0\n",
      "Max Players               0\n",
      "Play Time                 0\n",
      "Min Age                   0\n",
      "Users Rated               0\n",
      "Rating Average            0\n",
      "BGG Rank                  0\n",
      "Complexity Average        0\n",
      "Owned Users              23\n",
      "Mechanics              1598\n",
      "Domains               10159\n",
      "dtype: int64\n"
     ]
    }
   ],
   "source": [
    "na_count = df.isna().sum()\n",
    "\n",
    "print(na_count)"
   ]
  },
  {
   "cell_type": "code",
   "execution_count": 244,
   "id": "f39bd168-0d65-4fbe-b2e7-7a292e433373",
   "metadata": {},
   "outputs": [
    {
     "name": "stdout",
     "output_type": "stream",
     "text": [
      "ID                        0\n",
      "Name                      0\n",
      "Year Published            0\n",
      "Min Players               0\n",
      "Max Players               0\n",
      "Play Time                 0\n",
      "Min Age                   0\n",
      "Users Rated               0\n",
      "Rating Average            0\n",
      "BGG Rank                  0\n",
      "Complexity Average        0\n",
      "Owned Users               0\n",
      "Mechanics              1581\n",
      "Domains               10136\n",
      "dtype: int64\n"
     ]
    }
   ],
   "source": [
    "df = df.dropna(subset=['ID', 'Owned Users'])\n",
    "print(df.isna().sum())"
   ]
  },
  {
   "cell_type": "markdown",
   "id": "0bf720c3-ebda-45c7-a0ec-eb10d8ad263a",
   "metadata": {},
   "source": [
    "#### Converting Data types\n",
    "Changing column types to int and float as mentioned earlier."
   ]
  },
  {
   "cell_type": "code",
   "execution_count": 245,
   "id": "8479f077-cba4-4eca-abda-12d3dfcffc26",
   "metadata": {},
   "outputs": [
    {
     "data": {
      "text/html": [
       "<div>\n",
       "<style scoped>\n",
       "    .dataframe tbody tr th:only-of-type {\n",
       "        vertical-align: middle;\n",
       "    }\n",
       "\n",
       "    .dataframe tbody tr th {\n",
       "        vertical-align: top;\n",
       "    }\n",
       "\n",
       "    .dataframe thead th {\n",
       "        text-align: right;\n",
       "    }\n",
       "</style>\n",
       "<table border=\"1\" class=\"dataframe\">\n",
       "  <thead>\n",
       "    <tr style=\"text-align: right;\">\n",
       "      <th></th>\n",
       "      <th>ID</th>\n",
       "      <th>Name</th>\n",
       "      <th>Year Published</th>\n",
       "      <th>Min Players</th>\n",
       "      <th>Max Players</th>\n",
       "      <th>Play Time</th>\n",
       "      <th>Min Age</th>\n",
       "      <th>Users Rated</th>\n",
       "      <th>Rating Average</th>\n",
       "      <th>BGG Rank</th>\n",
       "      <th>Complexity Average</th>\n",
       "      <th>Owned Users</th>\n",
       "      <th>Mechanics</th>\n",
       "      <th>Domains</th>\n",
       "    </tr>\n",
       "  </thead>\n",
       "  <tbody>\n",
       "    <tr>\n",
       "      <th>0</th>\n",
       "      <td>174430</td>\n",
       "      <td>Gloomhaven</td>\n",
       "      <td>2017</td>\n",
       "      <td>1</td>\n",
       "      <td>4</td>\n",
       "      <td>120</td>\n",
       "      <td>14</td>\n",
       "      <td>42055</td>\n",
       "      <td>8.79</td>\n",
       "      <td>1</td>\n",
       "      <td>3.86</td>\n",
       "      <td>68323</td>\n",
       "      <td>Action Queue, Action Retrieval, Campaign / Bat...</td>\n",
       "      <td>Strategy Games, Thematic Games</td>\n",
       "    </tr>\n",
       "    <tr>\n",
       "      <th>1</th>\n",
       "      <td>161936</td>\n",
       "      <td>Pandemic Legacy: Season 1</td>\n",
       "      <td>2015</td>\n",
       "      <td>2</td>\n",
       "      <td>4</td>\n",
       "      <td>60</td>\n",
       "      <td>13</td>\n",
       "      <td>41643</td>\n",
       "      <td>8.61</td>\n",
       "      <td>2</td>\n",
       "      <td>2.84</td>\n",
       "      <td>65294</td>\n",
       "      <td>Action Points, Cooperative Game, Hand Manageme...</td>\n",
       "      <td>Strategy Games, Thematic Games</td>\n",
       "    </tr>\n",
       "    <tr>\n",
       "      <th>2</th>\n",
       "      <td>224517</td>\n",
       "      <td>Brass: Birmingham</td>\n",
       "      <td>2018</td>\n",
       "      <td>2</td>\n",
       "      <td>4</td>\n",
       "      <td>120</td>\n",
       "      <td>14</td>\n",
       "      <td>19217</td>\n",
       "      <td>8.66</td>\n",
       "      <td>3</td>\n",
       "      <td>3.91</td>\n",
       "      <td>28785</td>\n",
       "      <td>Hand Management, Income, Loans, Market, Networ...</td>\n",
       "      <td>Strategy Games</td>\n",
       "    </tr>\n",
       "    <tr>\n",
       "      <th>3</th>\n",
       "      <td>167791</td>\n",
       "      <td>Terraforming Mars</td>\n",
       "      <td>2016</td>\n",
       "      <td>1</td>\n",
       "      <td>5</td>\n",
       "      <td>120</td>\n",
       "      <td>12</td>\n",
       "      <td>64864</td>\n",
       "      <td>8.43</td>\n",
       "      <td>4</td>\n",
       "      <td>3.24</td>\n",
       "      <td>87099</td>\n",
       "      <td>Card Drafting, Drafting, End Game Bonuses, Han...</td>\n",
       "      <td>Strategy Games</td>\n",
       "    </tr>\n",
       "    <tr>\n",
       "      <th>4</th>\n",
       "      <td>233078</td>\n",
       "      <td>Twilight Imperium: Fourth Edition</td>\n",
       "      <td>2017</td>\n",
       "      <td>3</td>\n",
       "      <td>6</td>\n",
       "      <td>480</td>\n",
       "      <td>14</td>\n",
       "      <td>13468</td>\n",
       "      <td>8.70</td>\n",
       "      <td>5</td>\n",
       "      <td>4.22</td>\n",
       "      <td>16831</td>\n",
       "      <td>Action Drafting, Area Majority / Influence, Ar...</td>\n",
       "      <td>Strategy Games, Thematic Games</td>\n",
       "    </tr>\n",
       "  </tbody>\n",
       "</table>\n",
       "</div>"
      ],
      "text/plain": [
       "       ID                               Name  Year Published  Min Players  \\\n",
       "0  174430                         Gloomhaven            2017            1   \n",
       "1  161936          Pandemic Legacy: Season 1            2015            2   \n",
       "2  224517                  Brass: Birmingham            2018            2   \n",
       "3  167791                  Terraforming Mars            2016            1   \n",
       "4  233078  Twilight Imperium: Fourth Edition            2017            3   \n",
       "\n",
       "   Max Players  Play Time  Min Age  Users Rated  Rating Average  BGG Rank  \\\n",
       "0            4        120       14        42055            8.79         1   \n",
       "1            4         60       13        41643            8.61         2   \n",
       "2            4        120       14        19217            8.66         3   \n",
       "3            5        120       12        64864            8.43         4   \n",
       "4            6        480       14        13468            8.70         5   \n",
       "\n",
       "   Complexity Average  Owned Users  \\\n",
       "0                3.86        68323   \n",
       "1                2.84        65294   \n",
       "2                3.91        28785   \n",
       "3                3.24        87099   \n",
       "4                4.22        16831   \n",
       "\n",
       "                                           Mechanics  \\\n",
       "0  Action Queue, Action Retrieval, Campaign / Bat...   \n",
       "1  Action Points, Cooperative Game, Hand Manageme...   \n",
       "2  Hand Management, Income, Loans, Market, Networ...   \n",
       "3  Card Drafting, Drafting, End Game Bonuses, Han...   \n",
       "4  Action Drafting, Area Majority / Influence, Ar...   \n",
       "\n",
       "                          Domains  \n",
       "0  Strategy Games, Thematic Games  \n",
       "1  Strategy Games, Thematic Games  \n",
       "2                  Strategy Games  \n",
       "3                  Strategy Games  \n",
       "4  Strategy Games, Thematic Games  "
      ]
     },
     "execution_count": 245,
     "metadata": {},
     "output_type": "execute_result"
    }
   ],
   "source": [
    "# Changing columns to int\n",
    "df = df.astype({\"Owned Users\": int, \"Year Published\": int, \"ID\": int})\n",
    "\n",
    "# Changing decimal strings to floats\n",
    "df['Rating Average'] = df['Rating Average'].replace(',', '.', regex=True).astype(float)\n",
    "df['Complexity Average'] = df['Complexity Average'].replace(',', '.', regex=True).astype(float)\n",
    "\n",
    "df.head()"
   ]
  },
  {
   "cell_type": "markdown",
   "id": "b2a2c2e8-325f-43c5-b918-f57e8b3675d9",
   "metadata": {},
   "source": [
    "#### Checking for Dupes\n",
    "Next, I want to make sure there's no duplicate data. I'm mainly checking the ID, Name, and Year Published columns for this."
   ]
  },
  {
   "cell_type": "code",
   "execution_count": 246,
   "id": "ad0622bb-83d0-45ec-a953-aa039acf2dad",
   "metadata": {},
   "outputs": [
    {
     "name": "stdout",
     "output_type": "stream",
     "text": [
      "Duplicate ID count: 0\n",
      "Duplicate Name count: 367\n",
      "Duplicate Name + Year count: 12\n"
     ]
    }
   ],
   "source": [
    "print(\"Duplicate ID count: \" + str(df['ID'].duplicated().sum()))\n",
    "print(\"Duplicate Name count: \" + str(df['Name'].duplicated().sum()))\n",
    "print(\"Duplicate Name + Year count: \" + str(df.duplicated(subset=['Name', 'Year Published'], keep=False).sum()))"
   ]
  },
  {
   "cell_type": "markdown",
   "id": "27eb158c-f2c7-451f-95d9-6a284edc3c54",
   "metadata": {},
   "source": [
    "Even though there's quite a few duplicate names (367), I can't discount that there might be multiple board games sharing a name or multiple versions of the same game. So I'll only delete the entries that share both Name and Year. There weren't any duplicate IDs, so I don't need to worry about that."
   ]
  },
  {
   "cell_type": "code",
   "execution_count": 247,
   "id": "7f1f38f7-ffc1-4a4e-be9a-9da8e63ad171",
   "metadata": {},
   "outputs": [
    {
     "name": "stdout",
     "output_type": "stream",
     "text": [
      "(20320, 14)\n",
      "(20314, 14)\n"
     ]
    }
   ],
   "source": [
    "print(df.shape)\n",
    "df = df.drop_duplicates(subset=['Name', 'Year Published'])\n",
    "print(df.shape)"
   ]
  },
  {
   "cell_type": "markdown",
   "id": "c063e2fd-fc0f-48cc-8bc8-ceacf79995d8",
   "metadata": {},
   "source": [
    "Now that I've dropped the duplicates, I'll probably drop the ID and Name column as well. It's unlikely to be an important feature for any of the models, and being a non-numeric value might overcomplicate things in the case of Name."
   ]
  },
  {
   "cell_type": "code",
   "execution_count": 248,
   "id": "b57c3aa1-32f0-4449-8432-d9150d9f498d",
   "metadata": {},
   "outputs": [],
   "source": [
    "df = df.drop(['ID', 'Name'], axis=1)"
   ]
  },
  {
   "cell_type": "markdown",
   "id": "91e590b9-02f8-4e82-9324-5d8bc1dcd51e",
   "metadata": {},
   "source": [
    "#### Handling Mechanic and Domain Columns\n",
    "This one's a bit trickier to handle. For one, besides the name column they're the only non-numerical columns, so if I want to do something like NMF, I'll either need to cut the columns completely, or convert them to numbers. I also have the option to just remove the columns entirely, but it feels like there's quite a bit of info stored in these columns, so I'd rather not. \n",
    "\n",
    "I'll start by getting the # of unique values in Mechanics and Domain (without factoring in combinations)."
   ]
  },
  {
   "cell_type": "code",
   "execution_count": 249,
   "id": "0359928d-3e7a-4690-adc8-e2a798843817",
   "metadata": {},
   "outputs": [
    {
     "name": "stdout",
     "output_type": "stream",
     "text": [
      "Unique Domains: 39\n",
      "Unique Mechanics: 7377\n"
     ]
    }
   ],
   "source": [
    "domain_u = df['Domains'].nunique()\n",
    "print(\"Unique Domains: \" + str(domain_u))\n",
    "\n",
    "mech_u = df['Mechanics'].nunique()\n",
    "print(\"Unique Mechanics: \" + str(mech_u))"
   ]
  },
  {
   "cell_type": "markdown",
   "id": "267e133e-8001-41ec-9552-dae4588caac4",
   "metadata": {},
   "source": [
    "If the number of unique combinations for Mechanics/Domains was small enough, I considered just ignoring it and just treat combinations as their own unique value, and that might work for the Domains column, but the number of Unique combinations of Mechanics is probably too large to ignore.\n",
    "\n",
    "As a solution, I'll use the MultiLabelBinarizer from sklearn to apply one-hot encoding, which should change the categories to numerical values, and split each category into its own column. This will increase the dimensionality of the data, but should provide useful information for the models to train on."
   ]
  },
  {
   "cell_type": "code",
   "execution_count": 250,
   "id": "3ba8ecac-e9c2-488b-b24f-93e81c82d86b",
   "metadata": {},
   "outputs": [
    {
     "data": {
      "text/plain": [
       "Index(['Year Published', 'Min Players', 'Max Players', 'Play Time', 'Min Age',\n",
       "       'Users Rated', 'Rating Average', 'BGG Rank', 'Complexity Average',\n",
       "       'Owned Users', 'Mechanics', 'Abstract Games', 'Children's Games',\n",
       "       'Customizable Games', 'Family Games', 'Party Games', 'Strategy Games',\n",
       "       'Thematic Games', 'Unknown Domain', 'Wargames'],\n",
       "      dtype='object')"
      ]
     },
     "execution_count": 250,
     "metadata": {},
     "output_type": "execute_result"
    }
   ],
   "source": [
    "# Splitting Domains\n",
    "df['Domains'] = df['Domains'].fillna('Unknown Domain')\n",
    "df['Domains'] = df['Domains'].apply(lambda x: [y.strip() for y in str(x).split(',')])\n",
    "mlb_d = MultiLabelBinarizer()\n",
    "df_domain_encoded = pd.DataFrame(mlb_d.fit_transform(df['Domains']), columns=mlb_d.classes_, index=df.index)\n",
    "df = pd.concat([df, df_domain_encoded], axis=1)\n",
    "\n",
    "df = df.drop('Domains', axis=1)\n",
    "\n",
    "df.columns"
   ]
  },
  {
   "cell_type": "code",
   "execution_count": 251,
   "id": "9956d635-5ec0-4485-a38c-bb8a05fb6e23",
   "metadata": {},
   "outputs": [
    {
     "data": {
      "text/plain": [
       "Index(['Year Published', 'Min Players', 'Max Players', 'Play Time', 'Min Age',\n",
       "       'Users Rated', 'Rating Average', 'BGG Rank', 'Complexity Average',\n",
       "       'Owned Users',\n",
       "       ...\n",
       "       'Turn Order: Stat-Based', 'Unknown Mechanic', 'Variable Phase Order',\n",
       "       'Variable Player Powers', 'Variable Set-up',\n",
       "       'Victory Points as a Resource', 'Voting', 'Worker Placement',\n",
       "       'Worker Placement with Dice Workers', 'Zone of Control'],\n",
       "      dtype='object', length=202)"
      ]
     },
     "execution_count": 251,
     "metadata": {},
     "output_type": "execute_result"
    }
   ],
   "source": [
    "# Splitting Mechanics\n",
    "df['Mechanics'] = df['Mechanics'].fillna('Unknown Mechanic')\n",
    "df['Mechanics'] = df['Mechanics'].apply(lambda x: [y.strip() for y in str(x).split(',')])\n",
    "mlb_m = MultiLabelBinarizer()\n",
    "df_mechanic_encoded = pd.DataFrame(mlb_m.fit_transform(df['Mechanics']), columns=mlb_m.classes_, index=df.index)\n",
    "df = pd.concat([df, df_mechanic_encoded], axis=1)\n",
    "\n",
    "df = df.drop('Mechanics', axis=1)\n",
    "\n",
    "df.columns"
   ]
  },
  {
   "cell_type": "code",
   "execution_count": 252,
   "id": "a1519cd9-d84d-4861-b6aa-ad96175c274e",
   "metadata": {},
   "outputs": [
    {
     "name": "stdout",
     "output_type": "stream",
     "text": [
      "Total Mechanics: 183\n",
      "Total Domains: 9\n"
     ]
    }
   ],
   "source": [
    "print(\"Total Mechanics: \" + str(len(mlb_m.classes_)))\n",
    "print(\"Total Domains: \" + str(len(mlb_d.classes_)))"
   ]
  },
  {
   "cell_type": "markdown",
   "id": "5a620204-4f21-4605-b9f9-f8a4714a7ecf",
   "metadata": {},
   "source": [
    "#### Plotting out Histograms for Mechanics and Domains\n",
    "Just looking at the overall distribution of Mechanics and Domains. Note that there's some overlap since a game can have multiple mechanics/domains."
   ]
  },
  {
   "cell_type": "code",
   "execution_count": 253,
   "id": "de581751-0a38-46e3-985b-fc57e7e7f723",
   "metadata": {},
   "outputs": [
    {
     "data": {
      "image/png": "[encoded data removed]",
      "text/plain": [
       "<Figure size 640x480 with 1 Axes>"
      ]
     },
     "metadata": {},
     "output_type": "display_data"
    }
   ],
   "source": [
    "mechanic_sum = df[mlb_m.classes_].sum()\n",
    "\n",
    "plt.barh(mechanic_sum.index, mechanic_sum)\n",
    "plt.title('Mechanic Count')\n",
    "plt.xlabel('Count')\n",
    "plt.ylabel('Mechanic')\n",
    "plt.yticks([])\n",
    "\n",
    "plt.show()"
   ]
  },
  {
   "cell_type": "code",
   "execution_count": 254,
   "id": "68d9c2e1-e417-4dac-8de8-c46955a3fa26",
   "metadata": {},
   "outputs": [
    {
     "data": {
      "image/png": "[encoded data removed]",
      "text/plain": [
       "<Figure size 640x480 with 1 Axes>"
      ]
     },
     "metadata": {},
     "output_type": "display_data"
    }
   ],
   "source": [
    "domain_sum = df[mlb_d.classes_].sum()\n",
    "\n",
    "plt.barh(domain_sum.index, domain_sum)\n",
    "plt.title('Domain Count')\n",
    "plt.xlabel('Count')\n",
    "plt.ylabel('Domain')\n",
    "\n",
    "plt.show()"
   ]
  },
  {
   "cell_type": "markdown",
   "id": "891e9098-fab7-4cdb-b2e8-bc531f71ec6b",
   "metadata": {},
   "source": [
    "I'm a little concerned that the Unknown Domain (the NaN replacement value) might skew the data as an outlier, but it's a bit awkward to cut too, so I'll leave it in and see how it affects things."
   ]
  },
  {
   "cell_type": "markdown",
   "id": "517bce6e-9774-4565-845b-1105d66281d7",
   "metadata": {},
   "source": [
    "#### Score Distribution\n",
    "I also want to see how scores are distributed on average. It seems like a bell curve with most scores situated between 6-7."
   ]
  },
  {
   "cell_type": "code",
   "execution_count": 255,
   "id": "a73fc32b-62dc-4983-852f-0f04c3031893",
   "metadata": {},
   "outputs": [
    {
     "data": {
      "image/png": "[encoded data removed]",
      "text/plain": [
       "<Figure size 640x480 with 1 Axes>"
      ]
     },
     "metadata": {},
     "output_type": "display_data"
    }
   ],
   "source": [
    "bins = range(0, 11)\n",
    "rate_range = pd.cut(df['Rating Average'], bins=bins, right=False)\n",
    "\n",
    "score_counts = rate_range.value_counts().sort_index()\n",
    "\n",
    "score_counts.plot(kind='bar')\n",
    "plt.title('Distribution of Scores')\n",
    "plt.xlabel('Score Range')\n",
    "plt.ylabel('Number of Scores')\n",
    "plt.xticks(rotation=0)  # Keep the x-axis labels horizontal\n",
    "plt.show()"
   ]
  },
  {
   "cell_type": "markdown",
   "id": "57b1df0b-91d1-4d94-861d-0c191b4891e5",
   "metadata": {},
   "source": [
    "#### Other Columns\n",
    "Drawing Box Plots for the other columns I haven't checked yet. \n",
    "\n",
    "Most of them have fairly narrow ranges, but there's some values that are outside the expected range in a few columns (like 999 max players, or the 60000 playtime). \n",
    "\n",
    "With that said, I believe the values are legitimate, and not errors or mislabels, so I think in this case it makes more sense not to remove them. With the amount of features available, I don't think any of these columns will have enough weight where these few exceptions will skew the data too much, especially after scaling."
   ]
  },
  {
   "cell_type": "code",
   "execution_count": 286,
   "id": "675a7d24-300b-4d11-818d-b270ce6af918",
   "metadata": {},
   "outputs": [
    {
     "data": {
      "image/png": "[encoded data removed]",
      "text/plain": [
       "<Figure size 1600x600 with 10 Axes>"
      ]
     },
     "metadata": {},
     "output_type": "display_data"
    }
   ],
   "source": [
    "col_names = ['Year Published', 'Min Players', 'Max Players', 'Play Time', 'Min Age', 'Users Rated', 'Rating Average', 'BGG Rank', 'Complexity Average', 'Owned Users']\n",
    "\n",
    "fig, axes = plt.subplots(1, len(col_names), figsize=(16, 6))\n",
    "\n",
    "for i, column in enumerate(col_names):\n",
    "    sns.boxplot(y=df[column], ax=axes[i])  # Plot on each axis\n",
    "    axes[i].set_title(column)  # Set title as the column name\n",
    "\n",
    "plt.tight_layout()\n",
    "plt.show()"
   ]
  },
  {
   "cell_type": "code",
   "execution_count": 294,
   "id": "4a46a427-dd73-4f07-ab4d-f3a513468c35",
   "metadata": {},
   "outputs": [
    {
     "name": "stdout",
     "output_type": "stream",
     "text": [
      "[  0   1   2   3   4   5   6   7   8   9  10  11  12  13  14  15  16  17\n",
      "  18  20  21  22  23  24  25  26  28  30  31  32  33  34  36  38  40  41\n",
      "  42  45  48  50  52  60  64  68  69  75  99 100 120 127 163 200 362 999]\n",
      "       Max Players\n",
      "0            False\n",
      "1            False\n",
      "2            False\n",
      "3            False\n",
      "4            False\n",
      "...            ...\n",
      "20338        False\n",
      "20339         True\n",
      "20340        False\n",
      "20341        False\n",
      "20342        False\n",
      "\n",
      "[20314 rows x 1 columns]\n"
     ]
    },
    {
     "data": {
      "text/html": [
       "<div>\n",
       "<style scoped>\n",
       "    .dataframe tbody tr th:only-of-type {\n",
       "        vertical-align: middle;\n",
       "    }\n",
       "\n",
       "    .dataframe tbody tr th {\n",
       "        vertical-align: top;\n",
       "    }\n",
       "\n",
       "    .dataframe thead th {\n",
       "        text-align: right;\n",
       "    }\n",
       "</style>\n",
       "<table border=\"1\" class=\"dataframe\">\n",
       "  <thead>\n",
       "    <tr style=\"text-align: right;\">\n",
       "      <th></th>\n",
       "      <th>Year Published</th>\n",
       "      <th>Min Players</th>\n",
       "      <th>Max Players</th>\n",
       "      <th>Play Time</th>\n",
       "      <th>Min Age</th>\n",
       "      <th>Users Rated</th>\n",
       "      <th>Rating Average</th>\n",
       "      <th>BGG Rank</th>\n",
       "      <th>Complexity Average</th>\n",
       "      <th>Owned Users</th>\n",
       "      <th>...</th>\n",
       "      <th>Turn Order: Stat-Based</th>\n",
       "      <th>Unknown Mechanic</th>\n",
       "      <th>Variable Phase Order</th>\n",
       "      <th>Variable Player Powers</th>\n",
       "      <th>Variable Set-up</th>\n",
       "      <th>Victory Points as a Resource</th>\n",
       "      <th>Voting</th>\n",
       "      <th>Worker Placement</th>\n",
       "      <th>Worker Placement with Dice Workers</th>\n",
       "      <th>Zone of Control</th>\n",
       "    </tr>\n",
       "  </thead>\n",
       "  <tbody>\n",
       "  </tbody>\n",
       "</table>\n",
       "<p>0 rows × 202 columns</p>\n",
       "</div>"
      ],
      "text/plain": [
       "Empty DataFrame\n",
       "Columns: [Year Published, Min Players, Max Players, Play Time, Min Age, Users Rated, Rating Average, BGG Rank, Complexity Average, Owned Users, Abstract Games, Children's Games, Customizable Games, Family Games, Party Games, Strategy Games, Thematic Games, Unknown Domain, Wargames, Acting, Action Drafting, Action Points, Action Queue, Action Retrieval, Action Timer, Action/Event, Advantage Token, Alliances, Area Majority / Influence, Area Movement, Area-Impulse, Auction/Bidding, Auction: Dexterity, Auction: Dutch, Auction: Dutch Priority, Auction: English, Auction: Fixed Placement, Auction: Once Around, Auction: Sealed Bid, Auction: Turn Order Until Pass, Automatic Resource Growth, Betting and Bluffing, Bias, Bingo, Bribery, Campaign / Battle Card Driven, Card Drafting, Card Play Conflict Resolution, Catch the Leader, Chaining, Chit-Pull System, Closed Economy Auction, Command Cards, Commodity Speculation, Communication Limits, Connections, Constrained Bidding, Contracts, Cooperative Game, Crayon Rail System, Critical Hits and Failures, Cube Tower, Deck Bag and Pool Building, Deck Construction, Deduction, Delayed Purchase, Dice Rolling, Die Icon Resolution, Different Dice Movement, Different Worker Types, Drafting, Elapsed Real Time Ending, Enclosure, End Game Bonuses, Events, Finale Ending, Flicking, Follow, Force Commitment, Grid Coverage, Grid Movement, Hand Management, Hexagon Grid, Hidden Movement, Hidden Roles, Hidden Victory Points, Highest-Lowest Scoring, Hot Potato, I Cut You Choose, Impulse Movement, Income, Increase Value of Unchosen Resources, Induction, Interrupts, Investment, Kill Steal, King of the Hill, Ladder Climbing, Layering, Legacy Game, ...]\n",
       "Index: []\n",
       "\n",
       "[0 rows x 202 columns]"
      ]
     },
     "execution_count": 294,
     "metadata": {},
     "output_type": "execute_result"
    }
   ],
   "source": [
    "def check_outliers_iqr(df, columns):\n",
    "    for column in columns:\n",
    "        Q1 = df[column].quantile(0.25)\n",
    "        Q3 = df[column].quantile(0.75)\n",
    "        IQR = Q3 - Q1\n",
    "        \n",
    "        lower_bound = Q1 - 1.5 * IQR\n",
    "        upper_bound = Q3 + 1.5 * IQR\n",
    "        \n",
    "        # Filter out the rows where the column value is outside the bounds\n",
    "        print(df[columns] >= upper_bound)\n",
    "        in_range = df[(df[column] >= lower_bound) & (df[column] <= upper_bound)]\n",
    "        out_range = df[(df[column] <= lower_bound) & (df[column] >= upper_bound)]\n",
    "\n",
    "    return out_range\n",
    "\n",
    "print(np.unique(df['Max Players']))\n",
    "check_outliers_iqr(df, ['Max Players']).head()"
   ]
  },
  {
   "cell_type": "markdown",
   "id": "4c7329de-4c7e-451d-b61d-ec7704a2fb81",
   "metadata": {},
   "source": [
    "#### Scaling Data\n",
    "Since some of the models like NMF will want the data scaled first since they're sensitive to magnitude differences between features.\n",
    "Don't want to scale the rating though?"
   ]
  },
  {
   "cell_type": "code",
   "execution_count": 306,
   "id": "8e7fec3b-f882-49bc-b115-7969ed0e39f5",
   "metadata": {},
   "outputs": [
    {
     "name": "stdout",
     "output_type": "stream",
     "text": [
      "[[0.99909453 0.1        0.004004   ... 0.         0.         0.        ]\n",
      " [0.99873234 0.2        0.004004   ... 0.         0.         0.        ]\n",
      " [0.99927562 0.2        0.004004   ... 0.         0.         0.        ]\n",
      " [0.99891344 0.1        0.00500501 ... 0.         0.         0.        ]\n",
      " [0.99909453 0.3        0.00600601 ... 0.         0.         0.        ]]\n"
     ]
    }
   ],
   "source": [
    "from sklearn.preprocessing import MinMaxScaler\n",
    "\n",
    "scaler = MinMaxScaler()\n",
    "scaled_df = scaler.fit_transform(df)\n",
    "\n",
    "print(scaled_df[:5])"
   ]
  },
  {
   "cell_type": "markdown",
   "id": "f5ad4136-10db-4dbd-bdc0-efa842e01cad",
   "metadata": {},
   "source": [
    "### Part 2: Unsupervised Learning using NMF\n",
    "After splitting the Mechanic and Domain columns, all columns are now numerical (besides Name, which can probably just be dropped), so we can try using Non-negative Matrix Factorization (NMF) to create a model and see how well it can predict missing user ratings.\n",
    "\n",
    "There's not really a goal in terms of how many components I'm expecting, so I might tune that as the main hyperparameter. I'll be using the default nndsvd as the init value since I have dense starting data. Will probably stick with Coordinate Descent as the solver as well since it's a dense matrix."
   ]
  },
  {
   "cell_type": "markdown",
   "id": "4d68871a-2756-465a-a6ac-f00e4e59ccee",
   "metadata": {},
   "source": [
    "#### NMF 1:\n",
    "Starting with n_components = 3 as a baseline."
   ]
  },
  {
   "cell_type": "code",
   "execution_count": 331,
   "id": "76ef8126-7083-4d60-bec9-a89b1b36e9a4",
   "metadata": {},
   "outputs": [],
   "source": [
    "# Storing scores for later\n",
    "nmf_stats = {}"
   ]
  },
  {
   "cell_type": "code",
   "execution_count": 334,
   "id": "7362c046-2a49-4980-b6c9-6488d9a93dfc",
   "metadata": {},
   "outputs": [
    {
     "name": "stdout",
     "output_type": "stream",
     "text": [
      "0    9.750426\n",
      "1    9.003506\n",
      "2    7.484653\n",
      "3    9.326766\n",
      "4    9.149272\n",
      "Name: Rating Average, dtype: float64\n",
      "0    8.79\n",
      "1    8.61\n",
      "2    8.66\n",
      "3    8.43\n",
      "4    8.70\n",
      "Name: Rating Average, dtype: float64\n"
     ]
    }
   ],
   "source": [
    "nmf_model = NMF(n_components=3, init='nndsvd', random_state=42, max_iter=500)\n",
    "W_rand = nmf_model.fit_transform(scaled_df)\n",
    "H_rand = nmf_model.components_\n",
    "\n",
    "prediction = np.dot(W_rand, H_rand)\n",
    "\n",
    "# Need to revert scaling to get score\n",
    "predict_df = pd.DataFrame(scaler.inverse_transform(prediction), columns=df.columns)\n",
    "\n",
    "print(predict_df.head()['Rating Average'])\n",
    "print(df.head()['Rating Average'])"
   ]
  },
  {
   "cell_type": "markdown",
   "id": "bd88f648-7fbe-4953-9595-dc6d1cb0b5dd",
   "metadata": {},
   "source": [
    "#### NMF 1 Results:\n",
    "Taking a look at common regression stats (MSE, RMSE, MAE, and R-squared)."
   ]
  },
  {
   "cell_type": "code",
   "execution_count": 335,
   "id": "60e24d28-f0bf-46c9-8ef8-b71d4f99f166",
   "metadata": {},
   "outputs": [
    {
     "name": "stdout",
     "output_type": "stream",
     "text": [
      "Mean Squared Error (MSE): 0.90491\n",
      "Root Mean Squared Error (RMSE): 0.9512\n",
      "Mean Absolute Error (MAE): 0.7583\n",
      "R-squared: -0.03408\n"
     ]
    }
   ],
   "source": [
    "def reg_stats(actual_values, predicted_values):\n",
    "    # Calculate regression metrics\n",
    "    stats = {}\n",
    "    stats['mse'] = mean_squared_error(actual_values, predicted_values)\n",
    "    stats['rmse'] = np.sqrt(mse)\n",
    "    stats['mae'] = mean_absolute_error(actual_values, predicted_values)\n",
    "    stats['r2'] = r2_score(actual_values, predicted_values)\n",
    "\n",
    "    print(f\"Mean Squared Error (MSE): {round(stats['mse'], 5)}\")\n",
    "    print(f\"Root Mean Squared Error (RMSE): {round(stats['rmse'], 5)}\")\n",
    "    print(f\"Mean Absolute Error (MAE): {round(stats['mae'], 5)}\")\n",
    "    print(f\"R-squared: {round(stats['r2'], 5)}\")\n",
    "\n",
    "    return stats\n",
    "\n",
    "nmf_stats[3] = reg_stats(df['Rating Average'], predict_df['Rating Average'])\n"
   ]
  },
  {
   "cell_type": "markdown",
   "id": "2c4c7c9d-84b6-475f-ac5a-1aedd352c76c",
   "metadata": {},
   "source": [
    "Overall, looks very bad. The errors don't look terrible until you realize most scores are between 6 and 8, so being off by almost 1 is pretty far off, and the R-squared being in the negative is a pretty clear indicator that isn't a great fit. "
   ]
  },
  {
   "cell_type": "markdown",
   "id": "c890b120-bd15-4d58-b596-0f259ebff13a",
   "metadata": {},
   "source": [
    "#### NMF Part 2: \n",
    "Trying different n_component values [5, 10, 20, 30, 50, 60, 70, 80, 100]."
   ]
  },
  {
   "cell_type": "code",
   "execution_count": null,
   "id": "7c8296f9-aea4-450e-a3e0-93485368993e",
   "metadata": {},
   "outputs": [
    {
     "name": "stdout",
     "output_type": "stream",
     "text": [
      "For n_components = : 5\n",
      "Mean Squared Error (MSE): 0.81865\n",
      "Root Mean Squared Error (RMSE): 0.9512\n",
      "Mean Absolute Error (MAE): 0.71709\n",
      "R-squared: 0.06449\n",
      "For n_components = : 10\n",
      "Mean Squared Error (MSE): 0.75927\n",
      "Root Mean Squared Error (RMSE): 0.9512\n",
      "Mean Absolute Error (MAE): 0.68367\n",
      "R-squared: 0.13235\n",
      "For n_components = : 20\n",
      "Mean Squared Error (MSE): 0.64068\n",
      "Root Mean Squared Error (RMSE): 0.9512\n",
      "Mean Absolute Error (MAE): 0.62298\n",
      "R-squared: 0.26787\n",
      "For n_components = : 30\n",
      "Mean Squared Error (MSE): 0.41336\n",
      "Root Mean Squared Error (RMSE): 0.9512\n",
      "Mean Absolute Error (MAE): 0.48604\n",
      "R-squared: 0.52764\n",
      "For n_components = : 50\n",
      "Mean Squared Error (MSE): 0.23617\n",
      "Root Mean Squared Error (RMSE): 0.9512\n",
      "Mean Absolute Error (MAE): 0.36054\n",
      "R-squared: 0.73012\n"
     ]
    }
   ],
   "source": [
    "n_components = [5, 10, 20, 30, 50, 60, 70, 80, 100]\n",
    "\n",
    "for n in n_components:\n",
    "    nmf_model = NMF(n_components=n, init='nndsvd', random_state=42, max_iter=500)\n",
    "    W_rand = nmf_model.fit_transform(scaled_df)\n",
    "    H_rand = nmf_model.components_\n",
    "\n",
    "    prediction = np.dot(W_rand, H_rand)\n",
    "\n",
    "    # Need to revert scaling to get score\n",
    "    predict_df = pd.DataFrame(scaler.inverse_transform(prediction), columns=df.columns)\n",
    "\n",
    "    print(\"For n_components = : \" + str(n))\n",
    "    nmf_stats[n] = reg_stats(df['Rating Average'], predict_df['Rating Average'])"
   ]
  },
  {
   "cell_type": "markdown",
   "id": "1e6049bd-b3d5-4cd8-bebf-827a630c3553",
   "metadata": {},
   "source": [
    "The computation starts slowing down a lot at n_components >= 80, so I'll cut off the testing there, but there's a noticeable increase in accuracy as the number of components goes up. I also hit the warning for max iterations at 80/100, so in theory, the accuracy could go even higher, but that's likely approaching the point of overfitting. At least based on the points I tested, the ideal number of components is likely between 70 and 80, since that seems to be the inflection point where accuracy gains start to be less noticeable."
   ]
  },
  {
   "cell_type": "code",
   "execution_count": 337,
   "id": "bdb7fd74-af83-4d5b-95dc-750d56bec442",
   "metadata": {},
   "outputs": [
    {
     "name": "stdout",
     "output_type": "stream",
     "text": [
      "{3: {'mse': np.float64(0.9049057305265983), 'rmse': np.float64(0.9512047642538989), 'mae': np.float64(0.7582999169063207), 'r2': -0.03407588832224717}}\n"
     ]
    }
   ],
   "source": [
    "print(nmf_stats)"
   ]
  },
  {
   "cell_type": "markdown",
   "id": "d4c7e8b8-b927-45cb-8cbf-f579a5883b87",
   "metadata": {},
   "source": [
    "### Part 3: Unsupervised Learning using KMeans Clustering (if Applicable?)\n",
    "Since we have a wide number of features, we can potentiallyK means clustering (sklearn.cluster.KMeans), Dimensionality reduction with PCA?"
   ]
  },
  {
   "cell_type": "code",
   "execution_count": null,
   "id": "329ef890-c894-4286-b651-29cdef8743f2",
   "metadata": {},
   "outputs": [],
   "source": []
  },
  {
   "cell_type": "markdown",
   "id": "2bea1a7e-86d6-402d-90e4-45638a4153cf",
   "metadata": {},
   "source": [
    "### Part 4: Trying Supervised Learning\n",
    "When we include the Domains and Mechanics columns (split into multiple columns), we have a relatively high number of features in this data set. Since we're trying to predict the Average Rating, we'll need to use regression models, so I'll be testing with Linear Regression and SVM."
   ]
  },
  {
   "cell_type": "markdown",
   "id": "779a6af0-690b-4d31-beb6-5181ca716475",
   "metadata": {},
   "source": [
    "Unlike Unsupervised, I actually need to split the data first into training/test splits since it'll overfit otherwise."
   ]
  },
  {
   "cell_type": "code",
   "execution_count": 264,
   "id": "b8f6ee19-cf5f-4c29-ad73-ce4a84f4c4ae",
   "metadata": {},
   "outputs": [
    {
     "name": "stdout",
     "output_type": "stream",
     "text": [
      "(6094,)\n"
     ]
    }
   ],
   "source": [
    "from sklearn.model_selection import train_test_split\n",
    "X = df.drop(['Rating Average'], axis=1)\n",
    "y = df['Rating Average']\n",
    "X_train, X_test, y_train, y_test = train_test_split(X, y, test_size=0.7, random_state=32)\n",
    "print(y_train.shape)"
   ]
  },
  {
   "cell_type": "markdown",
   "id": "d9ec91de-ba20-4a33-9863-053002b0671a",
   "metadata": {},
   "source": [
    "#### Supervised 1: Linear Regression"
   ]
  },
  {
   "cell_type": "code",
   "execution_count": 311,
   "id": "530abd66-37cf-4650-a5a9-e21cbaff847b",
   "metadata": {},
   "outputs": [
    {
     "name": "stdout",
     "output_type": "stream",
     "text": [
      "Linear Regression Training Score: 0.6920708624256382\n",
      "Linear Regression Test Score: 0.6564866103396962\n"
     ]
    }
   ],
   "source": [
    "from sklearn.linear_model import LinearRegression\n",
    "\n",
    "#Try different hyperparameters\n",
    "lr_clf = LinearRegression().fit(X_train, y_train)\n",
    "\n",
    "print(\"Linear Regression Training Score: \" + str(lr_clf.score(X_train, y_train)))\n",
    "print(\"Linear Regression Test Score: \" + str(lr_clf.score(X_test, y_test)))"
   ]
  },
  {
   "cell_type": "code",
   "execution_count": 312,
   "id": "46dcf382-d176-4570-a3b2-e7e16f16974b",
   "metadata": {},
   "outputs": [
    {
     "name": "stdout",
     "output_type": "stream",
     "text": [
      "Mean Squared Error (MSE): 0.2987982654782098\n",
      "Root Mean Squared Error (RMSE): 0.5466244281755159\n",
      "Mean Absolute Error (MAE): 0.39997806593553714\n",
      "R-squared: 0.6564866103396962\n"
     ]
    }
   ],
   "source": [
    "reg_stats(y_test, lr_clf.predict(X_test))"
   ]
  },
  {
   "cell_type": "markdown",
   "id": "1a4cbe9e-a6a2-4481-8554-cad627a62e68",
   "metadata": {},
   "source": [
    "Not an amazing score overall, but it's not terrible either. The average error isn't too high, and .656 R-squared isn't great but at least shows there's somewhat of a fit still. Hopefully it can be improved though."
   ]
  },
  {
   "cell_type": "markdown",
   "id": "e81e2206-af85-4210-99ea-a5e36c03d795",
   "metadata": {},
   "source": [
    "#### Supervised 2: Support Machine Vectors (SVM/SVR)\n",
    "We can try using SVMs as another Regression Model to test with."
   ]
  },
  {
   "cell_type": "code",
   "execution_count": null,
   "id": "47c06d5e-3809-4604-ba00-3ff99a2abec5",
   "metadata": {},
   "outputs": [],
   "source": [
    "from sklearn.svm import SVR\n"
   ]
  },
  {
   "cell_type": "code",
   "execution_count": null,
   "id": "ce67eb9f-b6ea-4af5-967a-a2108d90c3a7",
   "metadata": {},
   "outputs": [],
   "source": [
    " # Confusion Matrix, not really applicable for regression tests\n",
    "\n",
    "#cm = confusion_matrix(test, pred)\n",
    "#cm_disp = ConfusionMatrixDisplay(confusion_matrix=cm)\n",
    "# cm_disp.plot()\n",
    "# plt.show()"
   ]
  },
  {
   "cell_type": "code",
   "execution_count": null,
   "id": "2b7e8514-81db-4e99-b868-144a141f8d18",
   "metadata": {},
   "outputs": [],
   "source": [
    "train_y = df_train['Category']\n",
    "\n",
    "lr_model = LogisticRegression().fit(tfidf, train_y)\n",
    "\n",
    "train_y_pred = lr_model.predict(tfidf)\n",
    "lr_acc = accuracy_score(train_y, train_y_pred)"
   ]
  },
  {
   "cell_type": "markdown",
   "id": "68e0a042-fb4f-454e-bc71-a3437534d59f",
   "metadata": {},
   "source": [
    "### Part 5: Conclusions"
   ]
  },
  {
   "cell_type": "markdown",
   "id": "e6ac5955-7118-4f5b-a992-0f01d8a0313f",
   "metadata": {},
   "source": [
    "#### Summary Table:\n",
    "\n",
    "|Method|RMSE|R-Squared|\n",
    "|:----|:--------:|:--------:|\n",
    "|NMF 3| 0.95127 | -0.03408 |\n",
    "|NMF 5| 0.90479 | 0.06449 |\n",
    "|NMF 10|  0.87136 | 0.13235 |\n",
    "|NMF 20|  0.64067 | 0.26787 |\n",
    "|NMF 30| 0.64293 | 0.52764 |\n",
    "|NMF 50| 0.48597 | 0.73012 |\n",
    "|NMF 70| 0.35619 | 0.85502 |\n",
    "|NMF 80| 0.03716 | 0.99842 |\n",
    "|NMF 100| 0.034305 | 0.99866 |\n",
    "|Linear Regression|  0.54662 | 0.65649 |\n",
    "|SVM|  |  |"
   ]
  },
  {
   "cell_type": "markdown",
   "id": "ff2661d4-1d18-4977-8904-1e4374b28498",
   "metadata": {},
   "source": [
    "#### Potential Issues:\n",
    "My decision to leave in outliers is probably the most obvious issue. While this probably didn't affect the unsupervised models as much, it likely made a much larger difference with the supervised models."
   ]
  },
  {
   "cell_type": "code",
   "execution_count": null,
   "id": "06de99f2-c49e-450d-af11-114d25a2aa70",
   "metadata": {},
   "outputs": [],
   "source": []
  }
 ],
 "metadata": {
  "kernelspec": {
   "display_name": "Python 3 (ipykernel)",
   "language": "python",
   "name": "python3"
  },
  "language_info": {
   "codemirror_mode": {
    "name": "ipython",
    "version": 3
   },
   "file_extension": ".py",
   "mimetype": "text/x-python",
   "name": "python",
   "nbconvert_exporter": "python",
   "pygments_lexer": "ipython3",
   "version": "3.11.4"
  }
 },
 "nbformat": 4,
 "nbformat_minor": 5
}
