{
 "cells": [
  {
   "cell_type": "markdown",
   "id": "f6809f54-a632-42d8-9495-f495f8a0b460",
   "metadata": {},
   "source": [
    "### Final Project:\n"
   ]
  },
  {
   "cell_type": "code",
   "execution_count": 1,
   "id": "8df7c477-231e-41eb-8f4d-9b878844c208",
   "metadata": {},
   "outputs": [],
   "source": [
    "import numpy as np\n",
    "import pandas as pd\n",
    "import seaborn as sns\n",
    "import sklearn\n",
    "from sklearn.metrics import confusion_matrix, ConfusionMatrixDisplay\n",
    "import matplotlib.pyplot as plt"
   ]
  },
  {
   "cell_type": "markdown",
   "id": "e9b19ea6-20bd-4c4f-8099-7041fe5b3e9e",
   "metadata": {},
   "source": [
    "### Part 1: Data Importing and EDA"
   ]
  },
  {
   "cell_type": "markdown",
   "id": "733927a8-e7d6-4a4d-8dc4-f6ea768db8d8",
   "metadata": {},
   "source": [
    "Will want to split data into training and test sets, import the data, then do some analysis."
   ]
  },
  {
   "cell_type": "markdown",
   "id": "f5ad4136-10db-4dbd-bdc0-efa842e01cad",
   "metadata": {},
   "source": [
    "### Part 2: Unsupervised Learning using NMF\n",
    "Plan is to test the data with several models in NMF to find the best performing one."
   ]
  },
  {
   "cell_type": "code",
   "execution_count": null,
   "id": "7362c046-2a49-4980-b6c9-6488d9a93dfc",
   "metadata": {},
   "outputs": [],
   "source": [
    "#Random\n",
    "model = NMF(n_components=3, init='random', random_state=0, max_iter=500)\n",
    "W_rand = model.fit_transform(train_matrix)\n",
    "H_rand = model.components_\n",
    "\n",
    "prediction = np.dot(W_rand, H_rand)\n",
    "# predict_df = pd.DataFrame(prediction, index=MV_users['uID'], columns=MV_movies['mID'])"
   ]
  },
  {
   "cell_type": "markdown",
   "id": "d4c7e8b8-b927-45cb-8cbf-f579a5883b87",
   "metadata": {},
   "source": [
    "### Part 3: Unsupervised Learning using Similarity Comparisons/Clustering (if Applicable?)\n",
    "K means clustering (sklearn.cluster.KMeans), Dimensionality reduction with PCA?"
   ]
  },
  {
   "cell_type": "code",
   "execution_count": null,
   "id": "329ef890-c894-4286-b651-29cdef8743f2",
   "metadata": {},
   "outputs": [],
   "source": []
  },
  {
   "cell_type": "markdown",
   "id": "2bea1a7e-86d6-402d-90e4-45638a4153cf",
   "metadata": {},
   "source": [
    "### Part 4: If Applicable, try Supervised Learning (Trees or Clusters?) Else, Conclusions"
   ]
  },
  {
   "cell_type": "code",
   "execution_count": null,
   "id": "ce67eb9f-b6ea-4af5-967a-a2108d90c3a7",
   "metadata": {},
   "outputs": [],
   "source": [
    "# Confusion Matrix\n",
    "\n",
    "labels = ['sport', 'business', 'politics', 'entertainment', 'tech']\n",
    "# cm = confusion_matrix(test, pred)\n",
    "# cm_disp = ConfusionMatrixDisplay(confusion_matrix=cm)\n",
    "# cm_disp.plot()\n",
    "# plt.show()"
   ]
  },
  {
   "cell_type": "code",
   "execution_count": null,
   "id": "2b7e8514-81db-4e99-b868-144a141f8d18",
   "metadata": {},
   "outputs": [],
   "source": [
    "train_y = df_train['Category']\n",
    "\n",
    "lr_model = LogisticRegression().fit(tfidf, train_y)\n",
    "\n",
    "train_y_pred = lr_model.predict(tfidf)\n",
    "lr_acc = accuracy_score(train_y, train_y_pred)"
   ]
  }
 ],
 "metadata": {
  "kernelspec": {
   "display_name": "Python 3 (ipykernel)",
   "language": "python",
   "name": "python3"
  },
  "language_info": {
   "codemirror_mode": {
    "name": "ipython",
    "version": 3
   },
   "file_extension": ".py",
   "mimetype": "text/x-python",
   "name": "python",
   "nbconvert_exporter": "python",
   "pygments_lexer": "ipython3",
   "version": "3.11.4"
  }
 },
 "nbformat": 4,
 "nbformat_minor": 5
}
