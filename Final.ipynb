{
 "cells": [
  {
   "cell_type": "markdown",
   "id": "f6809f54-a632-42d8-9495-f495f8a0b460",
   "metadata": {},
   "source": [
    "## Final Project: Board Game Analysis\n"
   ]
  },
  {
   "cell_type": "markdown",
   "id": "1c01f17b-8623-4f63-b55a-9e1f4b4f436c",
   "metadata": {},
   "source": [
    "The dataset I'll be analyzing contains scraped data from the website BoardGameGeek. The dataset should contain information on the various games that have earned enough user ratings on the website (30+ ratings). I'll be looking into Clustering and looking for any patterns, as well training a model to predict user ratings with the available features.\n",
    "\n",
    "Source: https://www.kaggle.com/datasets/andrewmvd/board-games"
   ]
  },
  {
   "cell_type": "code",
   "execution_count": 144,
   "id": "8df7c477-231e-41eb-8f4d-9b878844c208",
   "metadata": {},
   "outputs": [],
   "source": [
    "import numpy as np\n",
    "import pandas as pd\n",
    "import seaborn as sns\n",
    "import sklearn\n",
    "from sklearn.metrics import confusion_matrix, ConfusionMatrixDisplay\n",
    "from sklearn.preprocessing import MultiLabelBinarizer\n",
    "import matplotlib.pyplot as plt"
   ]
  },
  {
   "cell_type": "markdown",
   "id": "e9b19ea6-20bd-4c4f-8099-7041fe5b3e9e",
   "metadata": {},
   "source": [
    "### Part 1: Data Importing and EDA"
   ]
  },
  {
   "cell_type": "markdown",
   "id": "9de162ca-9353-463d-8ec0-a9e265bbaf56",
   "metadata": {},
   "source": [
    "First start by importing the data from the csv."
   ]
  },
  {
   "cell_type": "code",
   "execution_count": 145,
   "id": "f6aeaaf8-3592-4ea4-87cd-2adca1b68354",
   "metadata": {},
   "outputs": [
    {
     "name": "stdout",
     "output_type": "stream",
     "text": [
      "<class 'pandas.core.frame.DataFrame'>\n",
      "RangeIndex: 20343 entries, 0 to 20342\n",
      "Data columns (total 14 columns):\n",
      " #   Column              Non-Null Count  Dtype  \n",
      "---  ------              --------------  -----  \n",
      " 0   ID                  20327 non-null  float64\n",
      " 1   Name                20343 non-null  object \n",
      " 2   Year Published      20342 non-null  float64\n",
      " 3   Min Players         20343 non-null  int64  \n",
      " 4   Max Players         20343 non-null  int64  \n",
      " 5   Play Time           20343 non-null  int64  \n",
      " 6   Min Age             20343 non-null  int64  \n",
      " 7   Users Rated         20343 non-null  int64  \n",
      " 8   Rating Average      20343 non-null  object \n",
      " 9   BGG Rank            20343 non-null  int64  \n",
      " 10  Complexity Average  20343 non-null  object \n",
      " 11  Owned Users         20320 non-null  float64\n",
      " 12  Mechanics           18745 non-null  object \n",
      " 13  Domains             10184 non-null  object \n",
      "dtypes: float64(3), int64(6), object(5)\n",
      "memory usage: 2.2+ MB\n",
      "None\n",
      "Index(['ID', 'Name', 'Year Published', 'Min Players', 'Max Players',\n",
      "       'Play Time', 'Min Age', 'Users Rated', 'Rating Average', 'BGG Rank',\n",
      "       'Complexity Average', 'Owned Users', 'Mechanics', 'Domains'],\n",
      "      dtype='object')\n"
     ]
    },
    {
     "data": {
      "text/html": [
       "<div>\n",
       "<style scoped>\n",
       "    .dataframe tbody tr th:only-of-type {\n",
       "        vertical-align: middle;\n",
       "    }\n",
       "\n",
       "    .dataframe tbody tr th {\n",
       "        vertical-align: top;\n",
       "    }\n",
       "\n",
       "    .dataframe thead th {\n",
       "        text-align: right;\n",
       "    }\n",
       "</style>\n",
       "<table border=\"1\" class=\"dataframe\">\n",
       "  <thead>\n",
       "    <tr style=\"text-align: right;\">\n",
       "      <th></th>\n",
       "      <th>ID</th>\n",
       "      <th>Name</th>\n",
       "      <th>Year Published</th>\n",
       "      <th>Min Players</th>\n",
       "      <th>Max Players</th>\n",
       "      <th>Play Time</th>\n",
       "      <th>Min Age</th>\n",
       "      <th>Users Rated</th>\n",
       "      <th>Rating Average</th>\n",
       "      <th>BGG Rank</th>\n",
       "      <th>Complexity Average</th>\n",
       "      <th>Owned Users</th>\n",
       "      <th>Mechanics</th>\n",
       "      <th>Domains</th>\n",
       "    </tr>\n",
       "  </thead>\n",
       "  <tbody>\n",
       "    <tr>\n",
       "      <th>0</th>\n",
       "      <td>174430.0</td>\n",
       "      <td>Gloomhaven</td>\n",
       "      <td>2017.0</td>\n",
       "      <td>1</td>\n",
       "      <td>4</td>\n",
       "      <td>120</td>\n",
       "      <td>14</td>\n",
       "      <td>42055</td>\n",
       "      <td>8,79</td>\n",
       "      <td>1</td>\n",
       "      <td>3,86</td>\n",
       "      <td>68323.0</td>\n",
       "      <td>Action Queue, Action Retrieval, Campaign / Bat...</td>\n",
       "      <td>Strategy Games, Thematic Games</td>\n",
       "    </tr>\n",
       "    <tr>\n",
       "      <th>1</th>\n",
       "      <td>161936.0</td>\n",
       "      <td>Pandemic Legacy: Season 1</td>\n",
       "      <td>2015.0</td>\n",
       "      <td>2</td>\n",
       "      <td>4</td>\n",
       "      <td>60</td>\n",
       "      <td>13</td>\n",
       "      <td>41643</td>\n",
       "      <td>8,61</td>\n",
       "      <td>2</td>\n",
       "      <td>2,84</td>\n",
       "      <td>65294.0</td>\n",
       "      <td>Action Points, Cooperative Game, Hand Manageme...</td>\n",
       "      <td>Strategy Games, Thematic Games</td>\n",
       "    </tr>\n",
       "    <tr>\n",
       "      <th>2</th>\n",
       "      <td>224517.0</td>\n",
       "      <td>Brass: Birmingham</td>\n",
       "      <td>2018.0</td>\n",
       "      <td>2</td>\n",
       "      <td>4</td>\n",
       "      <td>120</td>\n",
       "      <td>14</td>\n",
       "      <td>19217</td>\n",
       "      <td>8,66</td>\n",
       "      <td>3</td>\n",
       "      <td>3,91</td>\n",
       "      <td>28785.0</td>\n",
       "      <td>Hand Management, Income, Loans, Market, Networ...</td>\n",
       "      <td>Strategy Games</td>\n",
       "    </tr>\n",
       "    <tr>\n",
       "      <th>3</th>\n",
       "      <td>167791.0</td>\n",
       "      <td>Terraforming Mars</td>\n",
       "      <td>2016.0</td>\n",
       "      <td>1</td>\n",
       "      <td>5</td>\n",
       "      <td>120</td>\n",
       "      <td>12</td>\n",
       "      <td>64864</td>\n",
       "      <td>8,43</td>\n",
       "      <td>4</td>\n",
       "      <td>3,24</td>\n",
       "      <td>87099.0</td>\n",
       "      <td>Card Drafting, Drafting, End Game Bonuses, Han...</td>\n",
       "      <td>Strategy Games</td>\n",
       "    </tr>\n",
       "    <tr>\n",
       "      <th>4</th>\n",
       "      <td>233078.0</td>\n",
       "      <td>Twilight Imperium: Fourth Edition</td>\n",
       "      <td>2017.0</td>\n",
       "      <td>3</td>\n",
       "      <td>6</td>\n",
       "      <td>480</td>\n",
       "      <td>14</td>\n",
       "      <td>13468</td>\n",
       "      <td>8,70</td>\n",
       "      <td>5</td>\n",
       "      <td>4,22</td>\n",
       "      <td>16831.0</td>\n",
       "      <td>Action Drafting, Area Majority / Influence, Ar...</td>\n",
       "      <td>Strategy Games, Thematic Games</td>\n",
       "    </tr>\n",
       "  </tbody>\n",
       "</table>\n",
       "</div>"
      ],
      "text/plain": [
       "         ID                               Name  Year Published  Min Players  \\\n",
       "0  174430.0                         Gloomhaven          2017.0            1   \n",
       "1  161936.0          Pandemic Legacy: Season 1          2015.0            2   \n",
       "2  224517.0                  Brass: Birmingham          2018.0            2   \n",
       "3  167791.0                  Terraforming Mars          2016.0            1   \n",
       "4  233078.0  Twilight Imperium: Fourth Edition          2017.0            3   \n",
       "\n",
       "   Max Players  Play Time  Min Age  Users Rated Rating Average  BGG Rank  \\\n",
       "0            4        120       14        42055           8,79         1   \n",
       "1            4         60       13        41643           8,61         2   \n",
       "2            4        120       14        19217           8,66         3   \n",
       "3            5        120       12        64864           8,43         4   \n",
       "4            6        480       14        13468           8,70         5   \n",
       "\n",
       "  Complexity Average  Owned Users  \\\n",
       "0               3,86      68323.0   \n",
       "1               2,84      65294.0   \n",
       "2               3,91      28785.0   \n",
       "3               3,24      87099.0   \n",
       "4               4,22      16831.0   \n",
       "\n",
       "                                           Mechanics  \\\n",
       "0  Action Queue, Action Retrieval, Campaign / Bat...   \n",
       "1  Action Points, Cooperative Game, Hand Manageme...   \n",
       "2  Hand Management, Income, Loans, Market, Networ...   \n",
       "3  Card Drafting, Drafting, End Game Bonuses, Han...   \n",
       "4  Action Drafting, Area Majority / Influence, Ar...   \n",
       "\n",
       "                          Domains  \n",
       "0  Strategy Games, Thematic Games  \n",
       "1  Strategy Games, Thematic Games  \n",
       "2                  Strategy Games  \n",
       "3                  Strategy Games  \n",
       "4  Strategy Games, Thematic Games  "
      ]
     },
     "execution_count": 145,
     "metadata": {},
     "output_type": "execute_result"
    }
   ],
   "source": [
    "# Importing the data\n",
    "\n",
    "df = pd.read_csv('bgg_dataset.csv', sep=';')\n",
    "print(df.info())\n",
    "print(df.columns)\n",
    "df.head()"
   ]
  },
  {
   "cell_type": "markdown",
   "id": "4398378c-189d-479d-9fb0-e41361d8dbb6",
   "metadata": {},
   "source": [
    "There's a few things I note off the bat from looking at the first few rows: \n",
    "1. Some of the data types weren't imported right. Complexity Average and Rating Average should be converted to floats, ID, Year Published, and Owned Users to Integers.\n",
    "2. Mechanics and Domains can contain multiple tags/categories in each column, so I'll need to factor that in somehow.\n",
    "\n",
    "Before I do that, I want to handle null values first though."
   ]
  },
  {
   "cell_type": "markdown",
   "id": "5d8f1b57-9765-469c-89cd-0ce537504dda",
   "metadata": {},
   "source": [
    "#### Removing NA values\n",
    "Looking at the data, there's a lot of games with blank Mechanics and Domains. These should probably still be kept since they're still otherwise valid and it's a pretty big chunk of the data. I'll replace the Nan values later when I split those columns into multi-categories.\n",
    "\n",
    "I will probably remove the ones with missing IDs and Owned Users data though, since it's a small enough subset to not matter much."
   ]
  },
  {
   "cell_type": "code",
   "execution_count": 146,
   "id": "2a0843d3-256e-4c2d-a53d-f9c88545db2e",
   "metadata": {},
   "outputs": [
    {
     "name": "stdout",
     "output_type": "stream",
     "text": [
      "ID                       16\n",
      "Name                      0\n",
      "Year Published            1\n",
      "Min Players               0\n",
      "Max Players               0\n",
      "Play Time                 0\n",
      "Min Age                   0\n",
      "Users Rated               0\n",
      "Rating Average            0\n",
      "BGG Rank                  0\n",
      "Complexity Average        0\n",
      "Owned Users              23\n",
      "Mechanics              1598\n",
      "Domains               10159\n",
      "dtype: int64\n"
     ]
    }
   ],
   "source": [
    "na_count = df.isna().sum()\n",
    "\n",
    "print(na_count)"
   ]
  },
  {
   "cell_type": "code",
   "execution_count": 147,
   "id": "f39bd168-0d65-4fbe-b2e7-7a292e433373",
   "metadata": {},
   "outputs": [
    {
     "name": "stdout",
     "output_type": "stream",
     "text": [
      "ID                        0\n",
      "Name                      0\n",
      "Year Published            0\n",
      "Min Players               0\n",
      "Max Players               0\n",
      "Play Time                 0\n",
      "Min Age                   0\n",
      "Users Rated               0\n",
      "Rating Average            0\n",
      "BGG Rank                  0\n",
      "Complexity Average        0\n",
      "Owned Users               0\n",
      "Mechanics              1581\n",
      "Domains               10136\n",
      "dtype: int64\n"
     ]
    }
   ],
   "source": [
    "df = df.dropna(subset=['ID', 'Owned Users'])\n",
    "print(df.isna().sum())"
   ]
  },
  {
   "cell_type": "markdown",
   "id": "0bf720c3-ebda-45c7-a0ec-eb10d8ad263a",
   "metadata": {},
   "source": [
    "#### Converting Data types\n",
    "Changing column types to int and float as mentioned earlier."
   ]
  },
  {
   "cell_type": "code",
   "execution_count": 148,
   "id": "8479f077-cba4-4eca-abda-12d3dfcffc26",
   "metadata": {},
   "outputs": [
    {
     "data": {
      "text/html": [
       "<div>\n",
       "<style scoped>\n",
       "    .dataframe tbody tr th:only-of-type {\n",
       "        vertical-align: middle;\n",
       "    }\n",
       "\n",
       "    .dataframe tbody tr th {\n",
       "        vertical-align: top;\n",
       "    }\n",
       "\n",
       "    .dataframe thead th {\n",
       "        text-align: right;\n",
       "    }\n",
       "</style>\n",
       "<table border=\"1\" class=\"dataframe\">\n",
       "  <thead>\n",
       "    <tr style=\"text-align: right;\">\n",
       "      <th></th>\n",
       "      <th>ID</th>\n",
       "      <th>Name</th>\n",
       "      <th>Year Published</th>\n",
       "      <th>Min Players</th>\n",
       "      <th>Max Players</th>\n",
       "      <th>Play Time</th>\n",
       "      <th>Min Age</th>\n",
       "      <th>Users Rated</th>\n",
       "      <th>Rating Average</th>\n",
       "      <th>BGG Rank</th>\n",
       "      <th>Complexity Average</th>\n",
       "      <th>Owned Users</th>\n",
       "      <th>Mechanics</th>\n",
       "      <th>Domains</th>\n",
       "    </tr>\n",
       "  </thead>\n",
       "  <tbody>\n",
       "    <tr>\n",
       "      <th>0</th>\n",
       "      <td>174430</td>\n",
       "      <td>Gloomhaven</td>\n",
       "      <td>2017</td>\n",
       "      <td>1</td>\n",
       "      <td>4</td>\n",
       "      <td>120</td>\n",
       "      <td>14</td>\n",
       "      <td>42055</td>\n",
       "      <td>8.79</td>\n",
       "      <td>1</td>\n",
       "      <td>3.86</td>\n",
       "      <td>68323</td>\n",
       "      <td>Action Queue, Action Retrieval, Campaign / Bat...</td>\n",
       "      <td>Strategy Games, Thematic Games</td>\n",
       "    </tr>\n",
       "    <tr>\n",
       "      <th>1</th>\n",
       "      <td>161936</td>\n",
       "      <td>Pandemic Legacy: Season 1</td>\n",
       "      <td>2015</td>\n",
       "      <td>2</td>\n",
       "      <td>4</td>\n",
       "      <td>60</td>\n",
       "      <td>13</td>\n",
       "      <td>41643</td>\n",
       "      <td>8.61</td>\n",
       "      <td>2</td>\n",
       "      <td>2.84</td>\n",
       "      <td>65294</td>\n",
       "      <td>Action Points, Cooperative Game, Hand Manageme...</td>\n",
       "      <td>Strategy Games, Thematic Games</td>\n",
       "    </tr>\n",
       "    <tr>\n",
       "      <th>2</th>\n",
       "      <td>224517</td>\n",
       "      <td>Brass: Birmingham</td>\n",
       "      <td>2018</td>\n",
       "      <td>2</td>\n",
       "      <td>4</td>\n",
       "      <td>120</td>\n",
       "      <td>14</td>\n",
       "      <td>19217</td>\n",
       "      <td>8.66</td>\n",
       "      <td>3</td>\n",
       "      <td>3.91</td>\n",
       "      <td>28785</td>\n",
       "      <td>Hand Management, Income, Loans, Market, Networ...</td>\n",
       "      <td>Strategy Games</td>\n",
       "    </tr>\n",
       "    <tr>\n",
       "      <th>3</th>\n",
       "      <td>167791</td>\n",
       "      <td>Terraforming Mars</td>\n",
       "      <td>2016</td>\n",
       "      <td>1</td>\n",
       "      <td>5</td>\n",
       "      <td>120</td>\n",
       "      <td>12</td>\n",
       "      <td>64864</td>\n",
       "      <td>8.43</td>\n",
       "      <td>4</td>\n",
       "      <td>3.24</td>\n",
       "      <td>87099</td>\n",
       "      <td>Card Drafting, Drafting, End Game Bonuses, Han...</td>\n",
       "      <td>Strategy Games</td>\n",
       "    </tr>\n",
       "    <tr>\n",
       "      <th>4</th>\n",
       "      <td>233078</td>\n",
       "      <td>Twilight Imperium: Fourth Edition</td>\n",
       "      <td>2017</td>\n",
       "      <td>3</td>\n",
       "      <td>6</td>\n",
       "      <td>480</td>\n",
       "      <td>14</td>\n",
       "      <td>13468</td>\n",
       "      <td>8.70</td>\n",
       "      <td>5</td>\n",
       "      <td>4.22</td>\n",
       "      <td>16831</td>\n",
       "      <td>Action Drafting, Area Majority / Influence, Ar...</td>\n",
       "      <td>Strategy Games, Thematic Games</td>\n",
       "    </tr>\n",
       "  </tbody>\n",
       "</table>\n",
       "</div>"
      ],
      "text/plain": [
       "       ID                               Name  Year Published  Min Players  \\\n",
       "0  174430                         Gloomhaven            2017            1   \n",
       "1  161936          Pandemic Legacy: Season 1            2015            2   \n",
       "2  224517                  Brass: Birmingham            2018            2   \n",
       "3  167791                  Terraforming Mars            2016            1   \n",
       "4  233078  Twilight Imperium: Fourth Edition            2017            3   \n",
       "\n",
       "   Max Players  Play Time  Min Age  Users Rated  Rating Average  BGG Rank  \\\n",
       "0            4        120       14        42055            8.79         1   \n",
       "1            4         60       13        41643            8.61         2   \n",
       "2            4        120       14        19217            8.66         3   \n",
       "3            5        120       12        64864            8.43         4   \n",
       "4            6        480       14        13468            8.70         5   \n",
       "\n",
       "   Complexity Average  Owned Users  \\\n",
       "0                3.86        68323   \n",
       "1                2.84        65294   \n",
       "2                3.91        28785   \n",
       "3                3.24        87099   \n",
       "4                4.22        16831   \n",
       "\n",
       "                                           Mechanics  \\\n",
       "0  Action Queue, Action Retrieval, Campaign / Bat...   \n",
       "1  Action Points, Cooperative Game, Hand Manageme...   \n",
       "2  Hand Management, Income, Loans, Market, Networ...   \n",
       "3  Card Drafting, Drafting, End Game Bonuses, Han...   \n",
       "4  Action Drafting, Area Majority / Influence, Ar...   \n",
       "\n",
       "                          Domains  \n",
       "0  Strategy Games, Thematic Games  \n",
       "1  Strategy Games, Thematic Games  \n",
       "2                  Strategy Games  \n",
       "3                  Strategy Games  \n",
       "4  Strategy Games, Thematic Games  "
      ]
     },
     "execution_count": 148,
     "metadata": {},
     "output_type": "execute_result"
    }
   ],
   "source": [
    "# Changing columns to int\n",
    "df = df.astype({\"Owned Users\": int, \"Year Published\": int, \"ID\": int})\n",
    "\n",
    "# Changing decimal strings to floats\n",
    "df['Rating Average'] = df['Rating Average'].replace(',', '.', regex=True).astype(float)\n",
    "df['Complexity Average'] = df['Complexity Average'].replace(',', '.', regex=True).astype(float)\n",
    "\n",
    "df.head()"
   ]
  },
  {
   "cell_type": "markdown",
   "id": "b2a2c2e8-325f-43c5-b918-f57e8b3675d9",
   "metadata": {},
   "source": [
    "#### Checking for Dupes\n",
    "Next, I want to make sure there's no duplicate data. I'm mainly checking the ID, Name, and Year Published columns for this."
   ]
  },
  {
   "cell_type": "code",
   "execution_count": 149,
   "id": "ad0622bb-83d0-45ec-a953-aa039acf2dad",
   "metadata": {},
   "outputs": [
    {
     "name": "stdout",
     "output_type": "stream",
     "text": [
      "Duplicate ID count: 0\n",
      "Duplicate Name count: 367\n",
      "Duplicate Name + Year count: 12\n"
     ]
    }
   ],
   "source": [
    "print(\"Duplicate ID count: \" + str(df['ID'].duplicated().sum()))\n",
    "print(\"Duplicate Name count: \" + str(df['Name'].duplicated().sum()))\n",
    "print(\"Duplicate Name + Year count: \" + str(df.duplicated(subset=['Name', 'Year Published'], keep=False).sum()))"
   ]
  },
  {
   "cell_type": "markdown",
   "id": "27eb158c-f2c7-451f-95d9-6a284edc3c54",
   "metadata": {},
   "source": [
    "Even though there's quite a few duplicate names (367), I can't discount that there might be multiple board games sharing a name or multiple versions of the same game. So I'll only delete the entries that share both Name and Year. There weren't any duplicate IDs, so I don't need to worry about that."
   ]
  },
  {
   "cell_type": "code",
   "execution_count": 150,
   "id": "7f1f38f7-ffc1-4a4e-be9a-9da8e63ad171",
   "metadata": {},
   "outputs": [
    {
     "name": "stdout",
     "output_type": "stream",
     "text": [
      "(20320, 14)\n",
      "(20314, 14)\n"
     ]
    }
   ],
   "source": [
    "print(df.shape)\n",
    "df = df.drop_duplicates(subset=['Name', 'Year Published'])\n",
    "print(df.shape)"
   ]
  },
  {
   "cell_type": "markdown",
   "id": "c063e2fd-fc0f-48cc-8bc8-ceacf79995d8",
   "metadata": {},
   "source": [
    "Now that I've dropped the duplicates, I'll probably drop the Name column as well. It's unlikely to be an important feature for any of the models, and being a non-numeric value might overcomplicate things."
   ]
  },
  {
   "cell_type": "code",
   "execution_count": 151,
   "id": "b57c3aa1-32f0-4449-8432-d9150d9f498d",
   "metadata": {},
   "outputs": [],
   "source": [
    "df = df.drop('Name', axis=1)"
   ]
  },
  {
   "cell_type": "markdown",
   "id": "91e590b9-02f8-4e82-9324-5d8bc1dcd51e",
   "metadata": {},
   "source": [
    "#### Handling Mechanic and Domain Columns\n",
    "This one's a bit trickier to handle. For one, besides the name column they're the only non-numerical columns, so if I want to do something like NMF, I'll either need to cut the columns completely, or convert them to numbers. I also have the option to just remove the columns entirely, but it feels like there's quite a bit of info stored in these columns, so I'd rather not. \n",
    "\n",
    "I'll start by getting the # of unique values in Mechanics and Domain (without factoring in combinations)."
   ]
  },
  {
   "cell_type": "code",
   "execution_count": 152,
   "id": "0359928d-3e7a-4690-adc8-e2a798843817",
   "metadata": {},
   "outputs": [
    {
     "name": "stdout",
     "output_type": "stream",
     "text": [
      "Unique Domains: 39\n",
      "Unique Mechanics: 7377\n"
     ]
    }
   ],
   "source": [
    "domain_u = df['Domains'].nunique()\n",
    "print(\"Unique Domains: \" + str(domain_u))\n",
    "\n",
    "mech_u = df['Mechanics'].nunique()\n",
    "print(\"Unique Mechanics: \" + str(mech_u))"
   ]
  },
  {
   "cell_type": "markdown",
   "id": "267e133e-8001-41ec-9552-dae4588caac4",
   "metadata": {},
   "source": [
    "If the number of unique combinations for Mechanics/Domains was small enough, I considered just ignoring it and just treat combinations as their own unique value, and that might work for the Domains column, but the number of Unique combinations of Mechanics is probably too large to ignore.\n",
    "\n",
    "As a solution, I'll use the MultiLabelBinarizer from sklearn to apply one-hot encoding, which should change the categories to numerical values, and split each category into its own column. This will increase the dimensionality of the data, but should provide useful information for the models to train on."
   ]
  },
  {
   "cell_type": "code",
   "execution_count": 153,
   "id": "3ba8ecac-e9c2-488b-b24f-93e81c82d86b",
   "metadata": {},
   "outputs": [
    {
     "data": {
      "text/plain": [
       "Index(['ID', 'Year Published', 'Min Players', 'Max Players', 'Play Time',\n",
       "       'Min Age', 'Users Rated', 'Rating Average', 'BGG Rank',\n",
       "       'Complexity Average', 'Owned Users', 'Mechanics', 'Domains',\n",
       "       'Abstract Games', 'Children's Games', 'Customizable Games',\n",
       "       'Family Games', 'Party Games', 'Strategy Games', 'Thematic Games',\n",
       "       'Unknown Domain', 'Wargames'],\n",
       "      dtype='object')"
      ]
     },
     "execution_count": 153,
     "metadata": {},
     "output_type": "execute_result"
    }
   ],
   "source": [
    "# Splitting Domains\n",
    "df['Domains'] = df['Domains'].fillna('Unknown Domain')\n",
    "df['Domains'] = df['Domains'].apply(lambda x: [y.strip() for y in str(x).split(',')])\n",
    "mlb_d = MultiLabelBinarizer()\n",
    "df_domain_encoded = pd.DataFrame(mlb_d.fit_transform(df['Domains']), columns=mlb_d.classes_, index=df.index)\n",
    "df = pd.concat([df, df_domain_encoded], axis=1)\n",
    "\n",
    "df.columns"
   ]
  },
  {
   "cell_type": "code",
   "execution_count": 154,
   "id": "9956d635-5ec0-4485-a38c-bb8a05fb6e23",
   "metadata": {},
   "outputs": [
    {
     "data": {
      "text/plain": [
       "Index(['ID', 'Year Published', 'Min Players', 'Max Players', 'Play Time',\n",
       "       'Min Age', 'Users Rated', 'Rating Average', 'BGG Rank',\n",
       "       'Complexity Average',\n",
       "       ...\n",
       "       'Turn Order: Stat-Based', 'Unknown Mechanic', 'Variable Phase Order',\n",
       "       'Variable Player Powers', 'Variable Set-up',\n",
       "       'Victory Points as a Resource', 'Voting', 'Worker Placement',\n",
       "       'Worker Placement with Dice Workers', 'Zone of Control'],\n",
       "      dtype='object', length=205)"
      ]
     },
     "execution_count": 154,
     "metadata": {},
     "output_type": "execute_result"
    }
   ],
   "source": [
    "# Splitting Mechanics\n",
    "df['Mechanics'] = df['Mechanics'].fillna('Unknown Mechanic')\n",
    "df['Mechanics'] = df['Mechanics'].apply(lambda x: [y.strip() for y in str(x).split(',')])\n",
    "mlb_m = MultiLabelBinarizer()\n",
    "df_mechanic_encoded = pd.DataFrame(mlb_m.fit_transform(df['Mechanics']), columns=mlb_m.classes_, index=df.index)\n",
    "df = pd.concat([df, df_mechanic_encoded], axis=1)\n",
    "\n",
    "df.columns"
   ]
  },
  {
   "cell_type": "code",
   "execution_count": 155,
   "id": "a1519cd9-d84d-4861-b6aa-ad96175c274e",
   "metadata": {},
   "outputs": [
    {
     "name": "stdout",
     "output_type": "stream",
     "text": [
      "Total Mechanics: 183\n",
      "Total Domains: 9\n"
     ]
    }
   ],
   "source": [
    "print(\"Total Mechanics: \" + str(len(mlb_m.classes_)))\n",
    "print(\"Total Domains: \" + str(len(mlb_d.classes_)))"
   ]
  },
  {
   "cell_type": "markdown",
   "id": "5a620204-4f21-4605-b9f9-f8a4714a7ecf",
   "metadata": {},
   "source": [
    "#### Plotting out Histograms for Mechanics and Domains\n",
    "Just looking at the overall distribution of Mechanics and Domains. Note that there's some overlap since a game can have multiple mechanics/domains."
   ]
  },
  {
   "cell_type": "code",
   "execution_count": 156,
   "id": "de581751-0a38-46e3-985b-fc57e7e7f723",
   "metadata": {},
   "outputs": [
    {
     "data": {
      "image/png": "[encoded data removed]",
      "text/plain": [
       "<Figure size 640x480 with 1 Axes>"
      ]
     },
     "metadata": {},
     "output_type": "display_data"
    }
   ],
   "source": [
    "mechanic_sum = df[mlb_m.classes_].sum()\n",
    "\n",
    "plt.barh(mechanic_sum.index, mechanic_sum)\n",
    "plt.title('Mechanic Count')\n",
    "plt.xlabel('Count')\n",
    "plt.ylabel('Mechanic')\n",
    "plt.yticks([])\n",
    "\n",
    "plt.show()"
   ]
  },
  {
   "cell_type": "code",
   "execution_count": 157,
   "id": "68d9c2e1-e417-4dac-8de8-c46955a3fa26",
   "metadata": {},
   "outputs": [
    {
     "data": {
      "image/png": "[encoded data removed]",
      "text/plain": [
       "<Figure size 640x480 with 1 Axes>"
      ]
     },
     "metadata": {},
     "output_type": "display_data"
    }
   ],
   "source": [
    "domain_sum = df[mlb_d.classes_].sum()\n",
    "\n",
    "plt.barh(domain_sum.index, domain_sum)\n",
    "plt.title('Domain Count')\n",
    "plt.xlabel('Count')\n",
    "plt.ylabel('Domain')\n",
    "\n",
    "plt.show()"
   ]
  },
  {
   "cell_type": "markdown",
   "id": "891e9098-fab7-4cdb-b2e8-bc531f71ec6b",
   "metadata": {},
   "source": [
    "I'm a little concerned that the Unknown Domain (the NaN replacement value) might skew the data as an outlier, but it's a bit awkward to cut too, so I'll leave it in and see how it affects things."
   ]
  },
  {
   "cell_type": "markdown",
   "id": "f5ad4136-10db-4dbd-bdc0-efa842e01cad",
   "metadata": {},
   "source": [
    "### Part 2: Unsupervised Learning using NMF\n",
    "After splitting the Mechanic and Domain columns, all columns are now numerical (besides Name, which can probably just be dropped), so we can try using Non-negative Matrix Factorization (NMF) to create a model and see how well it can predict missing user ratings.\n",
    "\n",
    "There's not really a goal in terms of how many components I'm expecting, so I might tune that as a hyperparameter."
   ]
  },
  {
   "cell_type": "code",
   "execution_count": null,
   "id": "7362c046-2a49-4980-b6c9-6488d9a93dfc",
   "metadata": {},
   "outputs": [],
   "source": [
    "#Random\n",
    "model = NMF(n_components=3, init='random', random_state=0, max_iter=500)\n",
    "W_rand = model.fit_transform(train_matrix)\n",
    "H_rand = model.components_\n",
    "\n",
    "prediction = np.dot(W_rand, H_rand)\n",
    "# predict_df = pd.DataFrame(prediction, index=MV_users['uID'], columns=MV_movies['mID'])"
   ]
  },
  {
   "cell_type": "markdown",
   "id": "d4c7e8b8-b927-45cb-8cbf-f579a5883b87",
   "metadata": {},
   "source": [
    "### Part 3: Unsupervised Learning using KMeans Clustering (if Applicable?)\n",
    "Since we have a wide number of features, we can potentiallyK means clustering (sklearn.cluster.KMeans), Dimensionality reduction with PCA?"
   ]
  },
  {
   "cell_type": "code",
   "execution_count": null,
   "id": "329ef890-c894-4286-b651-29cdef8743f2",
   "metadata": {},
   "outputs": [],
   "source": []
  },
  {
   "cell_type": "markdown",
   "id": "2bea1a7e-86d6-402d-90e4-45638a4153cf",
   "metadata": {},
   "source": [
    "### Part 4: Trying Supervised Learning (Trees or Clusters?)\n",
    "When we include the Domains and Mechanics columns (split into multiple columns), we have a relatively high number of features in this data set. As such, it makes sense to use methods like Random Forest or <> which can handle high feature count/dimensionality better."
   ]
  },
  {
   "cell_type": "markdown",
   "id": "779a6af0-690b-4d31-beb6-5181ca716475",
   "metadata": {},
   "source": [
    "Unlike Unsupervised, I actually need to split the data first into training/test splits since it'll overfit otherwise."
   ]
  },
  {
   "cell_type": "code",
   "execution_count": 161,
   "id": "b8f6ee19-cf5f-4c29-ad73-ce4a84f4c4ae",
   "metadata": {},
   "outputs": [
    {
     "name": "stdout",
     "output_type": "stream",
     "text": [
      "(6094,)\n"
     ]
    }
   ],
   "source": [
    "from sklearn.model_selection import train_test_split\n",
    "X = df.drop(['Rating Average'], axis=1)\n",
    "y = df['Rating Average']\n",
    "X_train, X_test, y_train, y_test = train_test_split(X, y, test_size=0.7, random_state=32)\n",
    "print(y_train.shape)"
   ]
  },
  {
   "cell_type": "markdown",
   "id": "d9ec91de-ba20-4a33-9863-053002b0671a",
   "metadata": {},
   "source": [
    "#### Supervised 1: Random Forest"
   ]
  },
  {
   "cell_type": "code",
   "execution_count": 162,
   "id": "530abd66-37cf-4650-a5a9-e21cbaff847b",
   "metadata": {},
   "outputs": [
    {
     "ename": "ValueError",
     "evalue": "setting an array element with a sequence.",
     "output_type": "error",
     "traceback": [
      "\u001b[0;31m---------------------------------------------------------------------------\u001b[0m",
      "\u001b[0;31mTypeError\u001b[0m                                 Traceback (most recent call last)",
      "\u001b[0;31mTypeError\u001b[0m: float() argument must be a string or a real number, not 'list'",
      "\nThe above exception was the direct cause of the following exception:\n",
      "\u001b[0;31mValueError\u001b[0m                                Traceback (most recent call last)",
      "\u001b[0;32m/var/folders/8h/2rsrf8gj53l4b_b6jphmj93r0000gn/T/ipykernel_86658/2451005438.py\u001b[0m in \u001b[0;36m?\u001b[0;34m()\u001b[0m\n\u001b[1;32m      1\u001b[0m \u001b[0;32mfrom\u001b[0m \u001b[0msklearn\u001b[0m\u001b[0;34m.\u001b[0m\u001b[0mensemble\u001b[0m \u001b[0;32mimport\u001b[0m \u001b[0mRandomForestClassifier\u001b[0m\u001b[0;34m\u001b[0m\u001b[0;34m\u001b[0m\u001b[0m\n\u001b[1;32m      2\u001b[0m \u001b[0;34m\u001b[0m\u001b[0m\n\u001b[1;32m      3\u001b[0m \u001b[0;31m#Try different hyperparameters\u001b[0m\u001b[0;34m\u001b[0m\u001b[0;34m\u001b[0m\u001b[0m\n\u001b[0;32m----> 4\u001b[0;31m \u001b[0mrf_clf\u001b[0m \u001b[0;34m=\u001b[0m \u001b[0mRandomForestClassifier\u001b[0m\u001b[0;34m(\u001b[0m\u001b[0mn_estimators\u001b[0m\u001b[0;34m=\u001b[0m\u001b[0;36m50\u001b[0m\u001b[0;34m)\u001b[0m\u001b[0;34m.\u001b[0m\u001b[0mfit\u001b[0m\u001b[0;34m(\u001b[0m\u001b[0mX_train\u001b[0m\u001b[0;34m,\u001b[0m \u001b[0my_train\u001b[0m\u001b[0;34m)\u001b[0m\u001b[0;34m\u001b[0m\u001b[0;34m\u001b[0m\u001b[0m\n\u001b[0m\u001b[1;32m      5\u001b[0m \u001b[0;34m\u001b[0m\u001b[0m\n\u001b[1;32m      6\u001b[0m \u001b[0my_train_pred\u001b[0m \u001b[0;34m=\u001b[0m \u001b[0mrf_clf\u001b[0m\u001b[0;34m.\u001b[0m\u001b[0mpredict\u001b[0m\u001b[0;34m(\u001b[0m\u001b[0mX_train\u001b[0m\u001b[0;34m)\u001b[0m\u001b[0;34m\u001b[0m\u001b[0;34m\u001b[0m\u001b[0m\n\u001b[1;32m      7\u001b[0m \u001b[0my_train_acc\u001b[0m \u001b[0;34m=\u001b[0m \u001b[0maccuracy_score\u001b[0m\u001b[0;34m(\u001b[0m\u001b[0my_train\u001b[0m\u001b[0;34m,\u001b[0m \u001b[0my_train_pred\u001b[0m\u001b[0;34m)\u001b[0m\u001b[0;34m\u001b[0m\u001b[0;34m\u001b[0m\u001b[0m\n",
      "\u001b[0;32m/Library/Frameworks/Python.framework/Versions/3.11/lib/python3.11/site-packages/sklearn/base.py\u001b[0m in \u001b[0;36m?\u001b[0;34m(estimator, *args, **kwargs)\u001b[0m\n\u001b[1;32m   1469\u001b[0m                 skip_parameter_validation=(\n\u001b[1;32m   1470\u001b[0m                     \u001b[0mprefer_skip_nested_validation\u001b[0m \u001b[0;32mor\u001b[0m \u001b[0mglobal_skip_validation\u001b[0m\u001b[0;34m\u001b[0m\u001b[0;34m\u001b[0m\u001b[0m\n\u001b[1;32m   1471\u001b[0m                 )\n\u001b[1;32m   1472\u001b[0m             ):\n\u001b[0;32m-> 1473\u001b[0;31m                 \u001b[0;32mreturn\u001b[0m \u001b[0mfit_method\u001b[0m\u001b[0;34m(\u001b[0m\u001b[0mestimator\u001b[0m\u001b[0;34m,\u001b[0m \u001b[0;34m*\u001b[0m\u001b[0margs\u001b[0m\u001b[0;34m,\u001b[0m \u001b[0;34m**\u001b[0m\u001b[0mkwargs\u001b[0m\u001b[0;34m)\u001b[0m\u001b[0;34m\u001b[0m\u001b[0;34m\u001b[0m\u001b[0m\n\u001b[0m",
      "\u001b[0;32m/Library/Frameworks/Python.framework/Versions/3.11/lib/python3.11/site-packages/sklearn/ensemble/_forest.py\u001b[0m in \u001b[0;36m?\u001b[0;34m(self, X, y, sample_weight)\u001b[0m\n\u001b[1;32m    359\u001b[0m         \u001b[0;31m# Validate or convert input data\u001b[0m\u001b[0;34m\u001b[0m\u001b[0;34m\u001b[0m\u001b[0m\n\u001b[1;32m    360\u001b[0m         \u001b[0;32mif\u001b[0m \u001b[0missparse\u001b[0m\u001b[0;34m(\u001b[0m\u001b[0my\u001b[0m\u001b[0;34m)\u001b[0m\u001b[0;34m:\u001b[0m\u001b[0;34m\u001b[0m\u001b[0;34m\u001b[0m\u001b[0m\n\u001b[1;32m    361\u001b[0m             \u001b[0;32mraise\u001b[0m \u001b[0mValueError\u001b[0m\u001b[0;34m(\u001b[0m\u001b[0;34m\"sparse multilabel-indicator for y is not supported.\"\u001b[0m\u001b[0;34m)\u001b[0m\u001b[0;34m\u001b[0m\u001b[0;34m\u001b[0m\u001b[0m\n\u001b[1;32m    362\u001b[0m \u001b[0;34m\u001b[0m\u001b[0m\n\u001b[0;32m--> 363\u001b[0;31m         X, y = self._validate_data(\n\u001b[0m\u001b[1;32m    364\u001b[0m             \u001b[0mX\u001b[0m\u001b[0;34m,\u001b[0m\u001b[0;34m\u001b[0m\u001b[0;34m\u001b[0m\u001b[0m\n\u001b[1;32m    365\u001b[0m             \u001b[0my\u001b[0m\u001b[0;34m,\u001b[0m\u001b[0;34m\u001b[0m\u001b[0;34m\u001b[0m\u001b[0m\n\u001b[1;32m    366\u001b[0m             \u001b[0mmulti_output\u001b[0m\u001b[0;34m=\u001b[0m\u001b[0;32mTrue\u001b[0m\u001b[0;34m,\u001b[0m\u001b[0;34m\u001b[0m\u001b[0;34m\u001b[0m\u001b[0m\n",
      "\u001b[0;32m/Library/Frameworks/Python.framework/Versions/3.11/lib/python3.11/site-packages/sklearn/base.py\u001b[0m in \u001b[0;36m?\u001b[0;34m(self, X, y, reset, validate_separately, cast_to_ndarray, **check_params)\u001b[0m\n\u001b[1;32m    646\u001b[0m                 \u001b[0;32mif\u001b[0m \u001b[0;34m\"estimator\"\u001b[0m \u001b[0;32mnot\u001b[0m \u001b[0;32min\u001b[0m \u001b[0mcheck_y_params\u001b[0m\u001b[0;34m:\u001b[0m\u001b[0;34m\u001b[0m\u001b[0;34m\u001b[0m\u001b[0m\n\u001b[1;32m    647\u001b[0m                     \u001b[0mcheck_y_params\u001b[0m \u001b[0;34m=\u001b[0m \u001b[0;34m{\u001b[0m\u001b[0;34m**\u001b[0m\u001b[0mdefault_check_params\u001b[0m\u001b[0;34m,\u001b[0m \u001b[0;34m**\u001b[0m\u001b[0mcheck_y_params\u001b[0m\u001b[0;34m}\u001b[0m\u001b[0;34m\u001b[0m\u001b[0;34m\u001b[0m\u001b[0m\n\u001b[1;32m    648\u001b[0m                 \u001b[0my\u001b[0m \u001b[0;34m=\u001b[0m \u001b[0mcheck_array\u001b[0m\u001b[0;34m(\u001b[0m\u001b[0my\u001b[0m\u001b[0;34m,\u001b[0m \u001b[0minput_name\u001b[0m\u001b[0;34m=\u001b[0m\u001b[0;34m\"y\"\u001b[0m\u001b[0;34m,\u001b[0m \u001b[0;34m**\u001b[0m\u001b[0mcheck_y_params\u001b[0m\u001b[0;34m)\u001b[0m\u001b[0;34m\u001b[0m\u001b[0;34m\u001b[0m\u001b[0m\n\u001b[1;32m    649\u001b[0m             \u001b[0;32melse\u001b[0m\u001b[0;34m:\u001b[0m\u001b[0;34m\u001b[0m\u001b[0;34m\u001b[0m\u001b[0m\n\u001b[0;32m--> 650\u001b[0;31m                 \u001b[0mX\u001b[0m\u001b[0;34m,\u001b[0m \u001b[0my\u001b[0m \u001b[0;34m=\u001b[0m \u001b[0mcheck_X_y\u001b[0m\u001b[0;34m(\u001b[0m\u001b[0mX\u001b[0m\u001b[0;34m,\u001b[0m \u001b[0my\u001b[0m\u001b[0;34m,\u001b[0m \u001b[0;34m**\u001b[0m\u001b[0mcheck_params\u001b[0m\u001b[0;34m)\u001b[0m\u001b[0;34m\u001b[0m\u001b[0;34m\u001b[0m\u001b[0m\n\u001b[0m\u001b[1;32m    651\u001b[0m             \u001b[0mout\u001b[0m \u001b[0;34m=\u001b[0m \u001b[0mX\u001b[0m\u001b[0;34m,\u001b[0m \u001b[0my\u001b[0m\u001b[0;34m\u001b[0m\u001b[0;34m\u001b[0m\u001b[0m\n\u001b[1;32m    652\u001b[0m \u001b[0;34m\u001b[0m\u001b[0m\n\u001b[1;32m    653\u001b[0m         \u001b[0;32mif\u001b[0m \u001b[0;32mnot\u001b[0m \u001b[0mno_val_X\u001b[0m \u001b[0;32mand\u001b[0m \u001b[0mcheck_params\u001b[0m\u001b[0;34m.\u001b[0m\u001b[0mget\u001b[0m\u001b[0;34m(\u001b[0m\u001b[0;34m\"ensure_2d\"\u001b[0m\u001b[0;34m,\u001b[0m \u001b[0;32mTrue\u001b[0m\u001b[0;34m)\u001b[0m\u001b[0;34m:\u001b[0m\u001b[0;34m\u001b[0m\u001b[0;34m\u001b[0m\u001b[0m\n",
      "\u001b[0;32m/Library/Frameworks/Python.framework/Versions/3.11/lib/python3.11/site-packages/sklearn/utils/validation.py\u001b[0m in \u001b[0;36m?\u001b[0;34m(X, y, accept_sparse, accept_large_sparse, dtype, order, copy, force_writeable, force_all_finite, ensure_2d, allow_nd, multi_output, ensure_min_samples, ensure_min_features, y_numeric, estimator)\u001b[0m\n\u001b[1;32m   1297\u001b[0m         raise ValueError(\n\u001b[1;32m   1298\u001b[0m             \u001b[0;34mf\"{estimator_name} requires y to be passed, but the target y is None\"\u001b[0m\u001b[0;34m\u001b[0m\u001b[0;34m\u001b[0m\u001b[0m\n\u001b[1;32m   1299\u001b[0m         )\n\u001b[1;32m   1300\u001b[0m \u001b[0;34m\u001b[0m\u001b[0m\n\u001b[0;32m-> 1301\u001b[0;31m     X = check_array(\n\u001b[0m\u001b[1;32m   1302\u001b[0m         \u001b[0mX\u001b[0m\u001b[0;34m,\u001b[0m\u001b[0;34m\u001b[0m\u001b[0;34m\u001b[0m\u001b[0m\n\u001b[1;32m   1303\u001b[0m         \u001b[0maccept_sparse\u001b[0m\u001b[0;34m=\u001b[0m\u001b[0maccept_sparse\u001b[0m\u001b[0;34m,\u001b[0m\u001b[0;34m\u001b[0m\u001b[0;34m\u001b[0m\u001b[0m\n\u001b[1;32m   1304\u001b[0m         \u001b[0maccept_large_sparse\u001b[0m\u001b[0;34m=\u001b[0m\u001b[0maccept_large_sparse\u001b[0m\u001b[0;34m,\u001b[0m\u001b[0;34m\u001b[0m\u001b[0;34m\u001b[0m\u001b[0m\n",
      "\u001b[0;32m/Library/Frameworks/Python.framework/Versions/3.11/lib/python3.11/site-packages/sklearn/utils/validation.py\u001b[0m in \u001b[0;36m?\u001b[0;34m(array, accept_sparse, accept_large_sparse, dtype, order, copy, force_writeable, force_all_finite, ensure_2d, allow_nd, ensure_min_samples, ensure_min_features, estimator, input_name)\u001b[0m\n\u001b[1;32m   1009\u001b[0m                         )\n\u001b[1;32m   1010\u001b[0m                     \u001b[0marray\u001b[0m \u001b[0;34m=\u001b[0m \u001b[0mxp\u001b[0m\u001b[0;34m.\u001b[0m\u001b[0mastype\u001b[0m\u001b[0;34m(\u001b[0m\u001b[0marray\u001b[0m\u001b[0;34m,\u001b[0m \u001b[0mdtype\u001b[0m\u001b[0;34m,\u001b[0m \u001b[0mcopy\u001b[0m\u001b[0;34m=\u001b[0m\u001b[0;32mFalse\u001b[0m\u001b[0;34m)\u001b[0m\u001b[0;34m\u001b[0m\u001b[0;34m\u001b[0m\u001b[0m\n\u001b[1;32m   1011\u001b[0m                 \u001b[0;32melse\u001b[0m\u001b[0;34m:\u001b[0m\u001b[0;34m\u001b[0m\u001b[0;34m\u001b[0m\u001b[0m\n\u001b[1;32m   1012\u001b[0m                     \u001b[0marray\u001b[0m \u001b[0;34m=\u001b[0m \u001b[0m_asarray_with_order\u001b[0m\u001b[0;34m(\u001b[0m\u001b[0marray\u001b[0m\u001b[0;34m,\u001b[0m \u001b[0morder\u001b[0m\u001b[0;34m=\u001b[0m\u001b[0morder\u001b[0m\u001b[0;34m,\u001b[0m \u001b[0mdtype\u001b[0m\u001b[0;34m=\u001b[0m\u001b[0mdtype\u001b[0m\u001b[0;34m,\u001b[0m \u001b[0mxp\u001b[0m\u001b[0;34m=\u001b[0m\u001b[0mxp\u001b[0m\u001b[0;34m)\u001b[0m\u001b[0;34m\u001b[0m\u001b[0;34m\u001b[0m\u001b[0m\n\u001b[0;32m-> 1013\u001b[0;31m             \u001b[0;32mexcept\u001b[0m \u001b[0mComplexWarning\u001b[0m \u001b[0;32mas\u001b[0m \u001b[0mcomplex_warning\u001b[0m\u001b[0;34m:\u001b[0m\u001b[0;34m\u001b[0m\u001b[0;34m\u001b[0m\u001b[0m\n\u001b[0m\u001b[1;32m   1014\u001b[0m                 raise ValueError(\n\u001b[1;32m   1015\u001b[0m                     \u001b[0;34m\"Complex data not supported\\n{}\\n\"\u001b[0m\u001b[0;34m.\u001b[0m\u001b[0mformat\u001b[0m\u001b[0;34m(\u001b[0m\u001b[0marray\u001b[0m\u001b[0;34m)\u001b[0m\u001b[0;34m\u001b[0m\u001b[0;34m\u001b[0m\u001b[0m\n\u001b[1;32m   1016\u001b[0m                 ) from complex_warning\n",
      "\u001b[0;32m/Library/Frameworks/Python.framework/Versions/3.11/lib/python3.11/site-packages/sklearn/utils/_array_api.py\u001b[0m in \u001b[0;36m?\u001b[0;34m(array, dtype, order, copy, xp, device)\u001b[0m\n\u001b[1;32m    747\u001b[0m         \u001b[0;31m# Use NumPy API to support order\u001b[0m\u001b[0;34m\u001b[0m\u001b[0;34m\u001b[0m\u001b[0m\n\u001b[1;32m    748\u001b[0m         \u001b[0;32mif\u001b[0m \u001b[0mcopy\u001b[0m \u001b[0;32mis\u001b[0m \u001b[0;32mTrue\u001b[0m\u001b[0;34m:\u001b[0m\u001b[0;34m\u001b[0m\u001b[0;34m\u001b[0m\u001b[0m\n\u001b[1;32m    749\u001b[0m             \u001b[0marray\u001b[0m \u001b[0;34m=\u001b[0m \u001b[0mnumpy\u001b[0m\u001b[0;34m.\u001b[0m\u001b[0marray\u001b[0m\u001b[0;34m(\u001b[0m\u001b[0marray\u001b[0m\u001b[0;34m,\u001b[0m \u001b[0morder\u001b[0m\u001b[0;34m=\u001b[0m\u001b[0morder\u001b[0m\u001b[0;34m,\u001b[0m \u001b[0mdtype\u001b[0m\u001b[0;34m=\u001b[0m\u001b[0mdtype\u001b[0m\u001b[0;34m)\u001b[0m\u001b[0;34m\u001b[0m\u001b[0;34m\u001b[0m\u001b[0m\n\u001b[1;32m    750\u001b[0m         \u001b[0;32melse\u001b[0m\u001b[0;34m:\u001b[0m\u001b[0;34m\u001b[0m\u001b[0;34m\u001b[0m\u001b[0m\n\u001b[0;32m--> 751\u001b[0;31m             \u001b[0marray\u001b[0m \u001b[0;34m=\u001b[0m \u001b[0mnumpy\u001b[0m\u001b[0;34m.\u001b[0m\u001b[0masarray\u001b[0m\u001b[0;34m(\u001b[0m\u001b[0marray\u001b[0m\u001b[0;34m,\u001b[0m \u001b[0morder\u001b[0m\u001b[0;34m=\u001b[0m\u001b[0morder\u001b[0m\u001b[0;34m,\u001b[0m \u001b[0mdtype\u001b[0m\u001b[0;34m=\u001b[0m\u001b[0mdtype\u001b[0m\u001b[0;34m)\u001b[0m\u001b[0;34m\u001b[0m\u001b[0;34m\u001b[0m\u001b[0m\n\u001b[0m\u001b[1;32m    752\u001b[0m \u001b[0;34m\u001b[0m\u001b[0m\n\u001b[1;32m    753\u001b[0m         \u001b[0;31m# At this point array is a NumPy ndarray. We convert it to an array\u001b[0m\u001b[0;34m\u001b[0m\u001b[0;34m\u001b[0m\u001b[0m\n\u001b[1;32m    754\u001b[0m         \u001b[0;31m# container that is consistent with the input's namespace.\u001b[0m\u001b[0;34m\u001b[0m\u001b[0;34m\u001b[0m\u001b[0m\n",
      "\u001b[0;32m/Library/Frameworks/Python.framework/Versions/3.11/lib/python3.11/site-packages/pandas/core/generic.py\u001b[0m in \u001b[0;36m?\u001b[0;34m(self, dtype, copy)\u001b[0m\n\u001b[1;32m   2149\u001b[0m     def __array__(\n\u001b[1;32m   2150\u001b[0m         \u001b[0mself\u001b[0m\u001b[0;34m,\u001b[0m \u001b[0mdtype\u001b[0m\u001b[0;34m:\u001b[0m \u001b[0mnpt\u001b[0m\u001b[0;34m.\u001b[0m\u001b[0mDTypeLike\u001b[0m \u001b[0;34m|\u001b[0m \u001b[0;32mNone\u001b[0m \u001b[0;34m=\u001b[0m \u001b[0;32mNone\u001b[0m\u001b[0;34m,\u001b[0m \u001b[0mcopy\u001b[0m\u001b[0;34m:\u001b[0m \u001b[0mbool_t\u001b[0m \u001b[0;34m|\u001b[0m \u001b[0;32mNone\u001b[0m \u001b[0;34m=\u001b[0m \u001b[0;32mNone\u001b[0m\u001b[0;34m\u001b[0m\u001b[0;34m\u001b[0m\u001b[0m\n\u001b[1;32m   2151\u001b[0m     ) -> np.ndarray:\n\u001b[1;32m   2152\u001b[0m         \u001b[0mvalues\u001b[0m \u001b[0;34m=\u001b[0m \u001b[0mself\u001b[0m\u001b[0;34m.\u001b[0m\u001b[0m_values\u001b[0m\u001b[0;34m\u001b[0m\u001b[0;34m\u001b[0m\u001b[0m\n\u001b[0;32m-> 2153\u001b[0;31m         \u001b[0marr\u001b[0m \u001b[0;34m=\u001b[0m \u001b[0mnp\u001b[0m\u001b[0;34m.\u001b[0m\u001b[0masarray\u001b[0m\u001b[0;34m(\u001b[0m\u001b[0mvalues\u001b[0m\u001b[0;34m,\u001b[0m \u001b[0mdtype\u001b[0m\u001b[0;34m=\u001b[0m\u001b[0mdtype\u001b[0m\u001b[0;34m)\u001b[0m\u001b[0;34m\u001b[0m\u001b[0;34m\u001b[0m\u001b[0m\n\u001b[0m\u001b[1;32m   2154\u001b[0m         if (\n\u001b[1;32m   2155\u001b[0m             \u001b[0mastype_is_view\u001b[0m\u001b[0;34m(\u001b[0m\u001b[0mvalues\u001b[0m\u001b[0;34m.\u001b[0m\u001b[0mdtype\u001b[0m\u001b[0;34m,\u001b[0m \u001b[0marr\u001b[0m\u001b[0;34m.\u001b[0m\u001b[0mdtype\u001b[0m\u001b[0;34m)\u001b[0m\u001b[0;34m\u001b[0m\u001b[0;34m\u001b[0m\u001b[0m\n\u001b[1;32m   2156\u001b[0m             \u001b[0;32mand\u001b[0m \u001b[0musing_copy_on_write\u001b[0m\u001b[0;34m(\u001b[0m\u001b[0;34m)\u001b[0m\u001b[0;34m\u001b[0m\u001b[0;34m\u001b[0m\u001b[0m\n",
      "\u001b[0;31mValueError\u001b[0m: setting an array element with a sequence."
     ]
    }
   ],
   "source": [
    "from sklearn.ensemble import RandomForestClassifier\n",
    "\n",
    "#Try different hyperparameters\n",
    "rf_clf = RandomForestClassifier(n_estimators=50).fit(X_train, y_train)\n",
    "\n",
    "y_train_pred = rf_clf.predict(X_train)\n",
    "y_train_acc = accuracy_score(y_train, y_train_pred)\n",
    "print('Random Forest Training accuracy: ' + str(y_train_acc))"
   ]
  },
  {
   "cell_type": "code",
   "execution_count": null,
   "id": "ce67eb9f-b6ea-4af5-967a-a2108d90c3a7",
   "metadata": {},
   "outputs": [],
   "source": [
    "# Confusion Matrix\n",
    "\n",
    "labels = ['sport', 'business', 'politics', 'entertainment', 'tech']\n",
    "# cm = confusion_matrix(test, pred)\n",
    "# cm_disp = ConfusionMatrixDisplay(confusion_matrix=cm)\n",
    "# cm_disp.plot()\n",
    "# plt.show()"
   ]
  },
  {
   "cell_type": "code",
   "execution_count": null,
   "id": "2b7e8514-81db-4e99-b868-144a141f8d18",
   "metadata": {},
   "outputs": [],
   "source": [
    "train_y = df_train['Category']\n",
    "\n",
    "lr_model = LogisticRegression().fit(tfidf, train_y)\n",
    "\n",
    "train_y_pred = lr_model.predict(tfidf)\n",
    "lr_acc = accuracy_score(train_y, train_y_pred)"
   ]
  },
  {
   "cell_type": "markdown",
   "id": "68e0a042-fb4f-454e-bc71-a3437534d59f",
   "metadata": {},
   "source": [
    "#### Conclusions"
   ]
  },
  {
   "cell_type": "code",
   "execution_count": null,
   "id": "d54ac788-de4c-4f93-a5d1-7e34015de055",
   "metadata": {},
   "outputs": [],
   "source": []
  }
 ],
 "metadata": {
  "kernelspec": {
   "display_name": "Python 3 (ipykernel)",
   "language": "python",
   "name": "python3"
  },
  "language_info": {
   "codemirror_mode": {
    "name": "ipython",
    "version": 3
   },
   "file_extension": ".py",
   "mimetype": "text/x-python",
   "name": "python",
   "nbconvert_exporter": "python",
   "pygments_lexer": "ipython3",
   "version": "3.11.4"
  }
 },
 "nbformat": 4,
 "nbformat_minor": 5
}
